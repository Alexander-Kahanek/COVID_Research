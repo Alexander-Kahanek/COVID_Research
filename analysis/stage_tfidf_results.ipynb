{
 "metadata": {
  "language_info": {
   "codemirror_mode": {
    "name": "ipython",
    "version": 3
   },
   "file_extension": ".py",
   "mimetype": "text/x-python",
   "name": "python",
   "nbconvert_exporter": "python",
   "pygments_lexer": "ipython3",
   "version": "3.8.3-final"
  },
  "orig_nbformat": 2,
  "kernelspec": {
   "name": "python38364bit31a300f32e4a4979894c2ccf59316df7",
   "display_name": "Python 3.8.3 64-bit"
  },
  "metadata": {
   "interpreter": {
    "hash": "0de36b31320ba4c88b4f85a74724f3d16c36a44df48581253710b1065e752d9e"
   }
  }
 },
 "nbformat": 4,
 "nbformat_minor": 2,
 "cells": [
  {
   "cell_type": "code",
   "execution_count": 1,
   "metadata": {},
   "outputs": [
    {
     "output_type": "stream",
     "name": "stdout",
     "text": [
      "---------- stage 1 ---------------\n              word     tfidf\n2423          york  3.464996\n23          figure  3.466524\n114       province  3.466537\n265   professional  3.466579\n234          nurse  3.467550\n4835       freedom  3.468335\n336     washington  3.468852\n4755        toilet  3.468921\n62            save  3.470254\n3730          wife  3.472177\n111        central  3.473373\n1122     available  3.473529\n1004           dog  3.473741\n751     biological  3.473955\n1824         blame  3.475520\n1724           one  3.475962\n2110         staff  3.476625\n257       decision  3.477058\n1608        weapon  3.480580\n1961      military  3.483022\n4170       hundred  3.485031\n41            crew  3.485538\n4069     communist  3.489320\n772           ncov  3.491458\n51           light  3.491464\n2192          cost  3.491789\n24          reveal  3.493169\n480             19  3.523359\n57            site  3.538525\n6495         covid  3.619785\n\n---------- stage 2 ---------------\n               word     tfidf\n1906         police  1.858159\n2406        walmart  1.858336\n2815       adequate  1.858341\n1935         inform  1.858420\n1942          coast  1.858450\n1599         budget  1.858513\n960         correct  1.858549\n2436          miami  1.858694\n4891            rip  1.858998\n3874          cuomo  1.859206\n1914          rapid  1.859500\n4326              l  1.859702\n172            hair  1.860114\n1658          grand  1.860146\n1306            fda  1.860173\n4549          tough  1.860202\n1488          bless  1.860807\n1565    restriction  1.860876\n1640           cell  1.860938\n2940         decide  1.861463\n5950        enforce  1.862237\n953   international  1.862380\n7479           ride  1.863358\n3199          dance  1.864144\n1758          black  1.865202\n3018          potus  1.866680\n2367          price  1.868812\n3411       attendee  1.870675\n481       passenger  1.873436\n1660         cruise  1.889293\n\n---------- stage 3 ---------------\n               word     tfidf\n955             rid  2.587431\n234            host  2.587517\n1943       identify  2.587875\n6077        funding  2.588391\n1558        regular  2.588479\n4765           film  2.588977\n1604           wood  2.588988\n4758             10  2.589140\n2618          shirt  2.589201\n207              nc  2.589284\n806         observe  2.589379\n3224       priority  2.589475\n5598      candidate  2.589642\n2533           lake  2.590005\n4932    respiratory  2.590753\n5510          viral  2.591313\n6292           lung  2.591774\n3158            jan  2.591784\n1100          phase  2.592735\n1240            bus  2.592936\n3017        similar  2.593389\n1736          vegas  2.594486\n10714     protestor  2.600684\n2111          lysol  2.611164\n5262         bleach  2.614957\n962          bottle  2.621785\n2011         easter  2.625423\n967           tiger  2.632275\n4842              _  2.637585\n2499   disinfectant  2.758667\n\n---------- stage 4 ---------------\n            word     tfidf\n3647      niggas  3.634066\n2861      accuse  3.634590\n5312       rapid  3.634670\n6638     carrier  3.634942\n3200     fitness  3.634951\n848      promise  3.635319\n974         meat  3.635545\n1909    donation  3.635756\n6981      casino  3.636362\n2583      unable  3.636704\n4750    movement  3.637038\n7640      secret  3.637712\n2494      appeal  3.637948\n2204     supreme  3.638558\n8624   magically  3.639175\n6976     factory  3.639228\n4562    protests  3.639279\n4550   brutality  3.641917\n374        pence  3.653454\n230        penny  3.662218\n15469        blm  3.681255\n14984     rioter  3.684858\n212         soda  3.685877\n2423           _  3.687379\n15001    rioting  3.687850\n4614      curfew  3.710133\n14003      floyd  3.724390\n8829        loot  3.727290\n4453    peaceful  3.740183\n214      shields  3.755614\n\n"
     ]
    }
   ],
   "source": [
    "import pandas as pd\n",
    "\n",
    "exclude = ['uv']\n",
    "\n",
    "for i in range(4):\n",
    "    print(f'---------- stage {i+1} ---------------')\n",
    "    df = pd.read_csv(f'tfidf/updated/c19.split4.agg.tfidf_s{i+1}.csv').sort_values(by='tfidf', ascending=False).head(30)\n",
    "    df = df[~df['word'].isin(exclude)].sort_values(by='tfidf', ascending=True)\n",
    "    print(df.head(30))\n",
    "    print()\n"
   ]
  },
  {
   "cell_type": "code",
   "execution_count": 2,
   "metadata": {},
   "outputs": [
    {
     "output_type": "stream",
     "name": "stdout",
     "text": [
      "---------- stage 1 ---------------\n                word     tfidf\n1750  administration  4.258715\n322      opportunity  4.259464\n2020            evil  4.260491\n168     transmission  4.260728\n2281     immediately  4.262891\n3363       democrats  4.263813\n3300           india  4.263857\n477              oil  4.264375\n3037         florida  4.265264\n47         attention  4.265372\n978             huge  4.266788\n2375            camp  4.269422\n1811            iran  4.269584\n1017             gov  4.271395\n1635            soap  4.272310\n1025            asia  4.273090\n41              crew  4.273213\n460          similar  4.274947\n111          central  4.274965\n265     professional  4.277976\n256          meeting  4.278298\n3149          africa  4.279203\n1           reporter  4.281726\n73             blood  4.285441\n4069       communist  4.286253\n3655           italy  4.288011\n1608          weapon  4.293084\n772             ncov  4.293390\n4853         diamond  4.324163\n3258      distancing  4.364858\n\n---------- stage 2 ---------------\n              word     tfidf\n1458          lmao  3.636919\n1192      football  3.637095\n6011      thoughts  3.637232\n430      pneumonia  3.637254\n2247          shot  3.637264\n5048      facetime  3.637264\n4223        defend  3.637281\n34        identify  3.637588\n2880           feb  3.638171\n3323          lake  3.638325\n1997       mistake  3.638474\n1881       funding  3.638593\n6496          birx  3.639109\n6258       predict  3.639123\n3430     apartment  3.640353\n2060             l  3.640786\n3100      colorado  3.642117\n2315          cell  3.642321\n4651         potus  3.642385\n5013     authority  3.642471\n5737         phase  3.642549\n2617        bernie  3.644472\n4415       opening  3.647084\n4900      sunshine  3.652043\n1535        bleach  3.662474\n3003     protester  3.668578\n529         bottle  3.673011\n4913             _  3.722932\n7166        easter  3.733524\n1530  disinfectant  3.781899\n\n---------- stage 3 ---------------\n             word     tfidf\n802        inject  1.862738\n4598        sheep  1.862903\n1928       advice  1.863068\n6976      factory  1.863111\n1996     reporter  1.863273\n3517         flag  1.863276\n3177        screw  1.863407\n8509      veteran  1.863615\n182   investigate  1.863827\n1909     donation  1.863977\n2991      senator  1.863986\n1545       costco  1.864157\n1977     director  1.864336\n467       private  1.864631\n781     gathering  1.864748\n1010        trail  1.865664\n3738    extremely  1.866764\n1620      hundred  1.866996\n3482          aka  1.867312\n3550         july  1.868473\n3200      fitness  1.868653\n3546      workout  1.870180\n3927          hug  1.870563\n2204      supreme  1.871722\n5259         mail  1.872637\n228          mayo  1.874441\n374         pence  1.875637\n30             lt  1.879846\n214       shields  1.887137\n2423            _  1.905992\n\n---------- stage 4 ---------------\n            word     tfidf\n5187  administer  1.772042\n3671       awful  1.772133\n228     sunshine  1.772135\n5053     conduct  1.772276\n1216      vendor  1.772290\n3018    suddenly  1.772407\n2648    opposite  1.772490\n3703   celebrity  1.772685\n9148         nah  1.772760\n5676    spitting  1.772803\n4340      annual  1.772887\n4204         tax  1.772920\n9            fox  1.773106\n1466      appeal  1.773128\n4270    lifetime  1.773382\n1307     council  1.773480\n424         task  1.774774\n6634       badge  1.774969\n6396       maine  1.775133\n6938        heal  1.775349\n4192       grill  1.775463\n2902      flower  1.775579\n7250     promise  1.776365\n762            _  1.776753\n1255     billion  1.777597\n3818        rare  1.779552\n4074      accuse  1.779927\n161      shields  1.823429\n157      recycle  1.854412\n158         soda  1.876025\n\n"
     ]
    }
   ],
   "source": [
    "for i in range(4):\n",
    "    print(f'---------- stage {i+1} ---------------')\n",
    "    df = pd.read_csv(f'tfidf/updated/cdc.split4.agg.tfidf_s{i+1}.csv').sort_values(by='tfidf', ascending=False).head(30)\n",
    "    df = df[~df['word'].isin(exclude)].sort_values(by='tfidf', ascending=True)\n",
    "    print(df.head(30))\n",
    "    print()"
   ]
  }
 ]
}