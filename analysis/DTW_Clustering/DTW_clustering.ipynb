{
 "metadata": {
  "language_info": {
   "codemirror_mode": {
    "name": "ipython",
    "version": 3
   },
   "file_extension": ".py",
   "mimetype": "text/x-python",
   "name": "python",
   "nbconvert_exporter": "python",
   "pygments_lexer": "ipython3",
   "version": "3.8.3"
  },
  "orig_nbformat": 2,
  "kernelspec": {
   "name": "python38364bit31a300f32e4a4979894c2ccf59316df7",
   "display_name": "Python 3.8.3 64-bit"
  },
  "metadata": {
   "interpreter": {
    "hash": "0de36b31320ba4c88b4f85a74724f3d16c36a44df48581253710b1065e752d9e"
   }
  }
 },
 "nbformat": 4,
 "nbformat_minor": 2,
 "cells": [
  {
   "source": [
    "# Dynamic Time Warping Clustering\n",
    "\n",
    "This will be taking our raw and cdc data to cluster states by the DTW metric\n",
    "\n",
    "## importing data"
   ],
   "cell_type": "markdown",
   "metadata": {}
  },
  {
   "cell_type": "code",
   "execution_count": 144,
   "metadata": {},
   "outputs": [
    {
     "output_type": "stream",
     "name": "stderr",
     "text": [
      "<ipython-input-144-4f2b2bae5c0e>:28: FutureWarning: Series.dt.weekofyear and Series.dt.week have been deprecated.  Please use Series.dt.isocalendar().week instead.\n",
      "  raw['week'] = raw['created_at'].dt.week\n",
      "loaded...\n",
      "<ipython-input-144-4f2b2bae5c0e>:118: SettingWithCopyWarning: \n",
      "A value is trying to be set on a copy of a slice from a DataFrame.\n",
      "Try using .loc[row_indexer,col_indexer] = value instead\n",
      "\n",
      "See the caveats in the documentation: https://pandas.pydata.org/pandas-docs/stable/user_guide/indexing.html#returning-a-view-versus-a-copy\n",
      "  cdc['stage'] = ['s:1' if date < cdc_splits[0] else 's:2' if date < cdc_splits[1] else 's:3' if date < cdc_splits[2] else 's:4' for date in cdc['date']]\n"
     ]
    }
   ],
   "source": [
    "import pandas as pd\n",
    "import seaborn as sns\n",
    "import matplotlib.pyplot as plt\n",
    "import plotly.express as px # choropleth maps\n",
    "from IPython.display import Image\n",
    "import os\n",
    "import sys\n",
    "import json\n",
    "# plotly maps\n",
    "# import plotly.figure_factory as ff\n",
    "# from urllib.request import urlopen\n",
    "\n",
    "# sys.path.append(os.path.abspath(\"C:/Users/Alex/Documents/My Data Files/COVID Research/analysis/mention_2_hashtag.py\"))\n",
    "\n",
    "# from analysis.functions.mention_2_hashtag import * \n",
    "# from analysis.functions.datamanip import *\n",
    "\n",
    "# n grams\n",
    "from sklearn.feature_extraction.text import CountVectorizer\n",
    "\n",
    "raw = pd.read_csv('../final/flair.joined.tweets.csv')\n",
    "\n",
    "# changing date to more readable format\n",
    "raw['created_at'] = pd.to_datetime(raw['created_at'])\n",
    "\n",
    "# getting seperated date and time columns\n",
    "raw['date'] = raw['created_at'].dt.date\n",
    "raw['week'] = raw['created_at'].dt.week\n",
    "raw['time'] = raw['created_at'].dt.time\n",
    "raw['hour'] = raw['created_at'].dt.hour\n",
    "\n",
    "min_wk = raw['week'].min()\n",
    "max_wk = raw['week'].max()\n",
    "\n",
    "min_date = raw['date'].min()\n",
    "max_date = raw['date'].max()\n",
    "\n",
    "# changing na to None\n",
    "raw = raw.fillna('None')\n",
    "\n",
    "raw = raw[raw['sentiment'] != 'None']\n",
    "\n",
    "raw['is_negative'] = [1 if 'NEGATIVE' in str(sent) else 0 for sent in raw['sentiment']]\n",
    "raw['is_positive'] = [1 if 'POSITIVE' in str(sent) else 0 for sent in raw['sentiment']]\n",
    "\n",
    "\n",
    "def convert_fips(unknown_fips_list, fin):\n",
    "    \n",
    "    def convert(fipsline):\n",
    "        name, postal, fips= fipsline.strip().split('\\t')\n",
    "\n",
    "        return {fips: name}\n",
    "\n",
    "    fips_dict = {f: n \n",
    "                for dic in [convert(line)for line in open(fin, 'r')]\n",
    "                for f, n in dic.items()}\n",
    "\n",
    "    return [fips_dict[f'{unknown:02d}'] for unknown in unknown_fips_list]\n",
    "\n",
    "raw = raw[raw['statefips'] != 'None']\n",
    "\n",
    "raw['state_name'] = convert_fips([int(float(fips)) for fips in raw['statefips']],\n",
    "                     '../analysis/functions/state.fips.txt')\n",
    "\n",
    "us_state_abbrev = json.load(open('../final/state_abbreviations.json'))\n",
    "\n",
    "raw['state_abv'] = [us_state_abbrev[s] for s in raw['state_name']]\n",
    "\n",
    "raw['fips'] = [f'{int(float(state)):02d}{int(float(county)):03d}' for i, state, county in raw[['statefips', 'countyfips']].itertuples()]\n",
    "raw['count'] = 1\n",
    "# raw.head()\n",
    "\n",
    "all_splits = pd.to_datetime(['2020-03-05', '2020-03-26', '2020-05-01'])\n",
    "raw['stage'] = ['s:1' if date < all_splits[0] else 's:2' if date < all_splits[1] else 's:3' if date < all_splits[2] else 's:4' for date in raw['date']]\n",
    "\n",
    "\n",
    "\n",
    "#########################\n",
    "# thresholds\n",
    "thresholds = [0.8, 0.9, 0.95]\n",
    "for thresh in thresholds:\n",
    "    raw[f't:{thresh}'] = [1 if float(conf) > thresh else 0 for conf in raw['sent_confidence']]\n",
    "\n",
    "col = 't:0.8'\n",
    "raw['category'] = ['NEUT' if t == 0 else 'POS' if p == 1 else 'NEG' for i, n, p, t in raw[['is_negative', 'is_positive', col]].itertuples()]\n",
    "raw['is_neutral'] = [1 if cat == 'NEUT' else 0 for cat in raw['category']]\n",
    "raw['is_positive'] = [1 if cat == 'POS' else 0 for cat in raw['category']]\n",
    "raw['is_negative'] = [1 if cat == 'NEG' else 0 for cat in raw['category']]\n",
    "\n",
    "raw['is_neutral2'] = raw['is_neutral']\n",
    "raw['is_positive2'] = raw['is_positive']\n",
    "raw['is_negative2'] = raw['is_negative']\n",
    "\n",
    "raw['is_neutral3'] = raw['is_neutral']\n",
    "raw['is_positive3'] = raw['is_positive']\n",
    "raw['is_negative3'] = raw['is_negative']\n",
    "\n",
    "##################\n",
    "# cdc\n",
    "\n",
    "keywords = ['social distancing', 'social distance', 'physical distance', '6 feet', 'stay at home', 'school isolation', 'isolation', 'stay home', 'avoid touching', 'mask', 'covering', 'face shield', 'wear a mask', 'surgical mask', 'N95 respirator', 'wearing gloves', 'face shields', 'facial covering', 'skin protection', 'eye protection', 'ppe', 'wash hands', 'hand sanitizer', 'disinfect', 'clean', 'detergent', 'handwashing', 'hand hygiene', 'prevention hygiene', 'sprays', 'concentrates', 'wipes', 'routine cleaning', 'bleach solution', 'test', 'business closure']\n",
    "\n",
    "topics = []\n",
    "indexes = {i:0 for i in range(len(raw.index))}\n",
    "\n",
    "for i, topic in enumerate(keywords):\n",
    "    topics.append([1 if topic in text else 0 for text in raw['ogtext']])\n",
    "\n",
    "for i, kw in enumerate(topics):\n",
    "    for data_ind, value in enumerate(topics[i]):\n",
    "        indexes[data_ind] += value\n",
    "\n",
    "raw['in_cdc'] = [indexes[i] if 0 <= indexes[i] <= 1 else 1 for i in indexes]\n",
    "\n",
    "cdc = raw[raw['in_cdc'] == 1]\n",
    "\n",
    "cdc_splits = pd.to_datetime(['2020-03-12', '2020-04-20', '2020-05-14'])\n",
    "cdc['stage'] = ['s:1' if date < cdc_splits[0] else 's:2' if date < cdc_splits[1] else 's:3' if date < cdc_splits[2] else 's:4' for date in cdc['date']]\n",
    "\n",
    "# print(f'there are a total of {len(cdc.index)} tweets after subsetting for cdc keywords')\n",
    "# print(raw)\n",
    "# print(cdc)\n",
    "print('loaded...')"
   ]
  },
  {
   "cell_type": "code",
   "execution_count": 3,
   "metadata": {},
   "outputs": [
    {
     "output_type": "execute_result",
     "data": {
      "text/plain": [
       "                   id_str                created_at  follower_count  \\\n",
       "0  id:1226763665036075008 2020-02-10 07:03:44+00:00           270.0   \n",
       "1  id:1226763937317818368 2020-02-10 07:04:49+00:00           199.0   \n",
       "2  id:1226764107958734851 2020-02-10 07:05:30+00:00           235.0   \n",
       "3  id:1226765442548719616 2020-02-10 07:10:48+00:00         60008.0   \n",
       "4  id:1226765540229861376 2020-02-10 07:11:11+00:00         60008.0   \n",
       "\n",
       "   friends_count statefips countyfips countyname  is_urban  \\\n",
       "0          539.0      32.0        3.0      Clark         1   \n",
       "1          216.0      36.0       81.0     Queens         1   \n",
       "2          130.0       4.0       13.0   Maricopa         1   \n",
       "3        51176.0       5.0      119.0    Pulaski         0   \n",
       "4        51176.0       5.0      119.0    Pulaski         0   \n",
       "\n",
       "                                              ogtext  \\\n",
       "0  having a mocha and avoiding coronavirus at the...   \n",
       "1                         our hearts beat with china   \n",
       "2  people stop my sister in the street to make fu...   \n",
       "3   coronavirus death toll surpasses the number o...   \n",
       "4   coronavirus cases aboard japanese cruise ship...   \n",
       "\n",
       "                                           cleantext  ... t:0.95 category  \\\n",
       "0               have mocha avoid coronavirus airport  ...      0      POS   \n",
       "1                                   heart beat china  ...      0      POS   \n",
       "2  people stop sister street fun wearing mask s a...  ...      0      POS   \n",
       "3     coronavirus death toll surpass number fatal...  ...      1      NEG   \n",
       "4     coronavirus case aboard japanese cruise shi...  ...      1      NEG   \n",
       "\n",
       "  is_neutral is_neutral2 is_positive2 is_negative2 is_neutral3  is_positive3  \\\n",
       "0          0           0            1            0           0             1   \n",
       "1          0           0            1            0           0             1   \n",
       "2          0           0            1            0           0             1   \n",
       "3          0           0            0            1           0             0   \n",
       "4          0           0            0            1           0             0   \n",
       "\n",
       "  is_negative3  in_cdc  \n",
       "0            0       0  \n",
       "1            0       0  \n",
       "2            0       1  \n",
       "3            1       0  \n",
       "4            1       0  \n",
       "\n",
       "[5 rows x 39 columns]"
      ],
      "text/html": "<div>\n<style scoped>\n    .dataframe tbody tr th:only-of-type {\n        vertical-align: middle;\n    }\n\n    .dataframe tbody tr th {\n        vertical-align: top;\n    }\n\n    .dataframe thead th {\n        text-align: right;\n    }\n</style>\n<table border=\"1\" class=\"dataframe\">\n  <thead>\n    <tr style=\"text-align: right;\">\n      <th></th>\n      <th>id_str</th>\n      <th>created_at</th>\n      <th>follower_count</th>\n      <th>friends_count</th>\n      <th>statefips</th>\n      <th>countyfips</th>\n      <th>countyname</th>\n      <th>is_urban</th>\n      <th>ogtext</th>\n      <th>cleantext</th>\n      <th>...</th>\n      <th>t:0.95</th>\n      <th>category</th>\n      <th>is_neutral</th>\n      <th>is_neutral2</th>\n      <th>is_positive2</th>\n      <th>is_negative2</th>\n      <th>is_neutral3</th>\n      <th>is_positive3</th>\n      <th>is_negative3</th>\n      <th>in_cdc</th>\n    </tr>\n  </thead>\n  <tbody>\n    <tr>\n      <th>0</th>\n      <td>id:1226763665036075008</td>\n      <td>2020-02-10 07:03:44+00:00</td>\n      <td>270.0</td>\n      <td>539.0</td>\n      <td>32.0</td>\n      <td>3.0</td>\n      <td>Clark</td>\n      <td>1</td>\n      <td>having a mocha and avoiding coronavirus at the...</td>\n      <td>have mocha avoid coronavirus airport</td>\n      <td>...</td>\n      <td>0</td>\n      <td>POS</td>\n      <td>0</td>\n      <td>0</td>\n      <td>1</td>\n      <td>0</td>\n      <td>0</td>\n      <td>1</td>\n      <td>0</td>\n      <td>0</td>\n    </tr>\n    <tr>\n      <th>1</th>\n      <td>id:1226763937317818368</td>\n      <td>2020-02-10 07:04:49+00:00</td>\n      <td>199.0</td>\n      <td>216.0</td>\n      <td>36.0</td>\n      <td>81.0</td>\n      <td>Queens</td>\n      <td>1</td>\n      <td>our hearts beat with china</td>\n      <td>heart beat china</td>\n      <td>...</td>\n      <td>0</td>\n      <td>POS</td>\n      <td>0</td>\n      <td>0</td>\n      <td>1</td>\n      <td>0</td>\n      <td>0</td>\n      <td>1</td>\n      <td>0</td>\n      <td>0</td>\n    </tr>\n    <tr>\n      <th>2</th>\n      <td>id:1226764107958734851</td>\n      <td>2020-02-10 07:05:30+00:00</td>\n      <td>235.0</td>\n      <td>130.0</td>\n      <td>4.0</td>\n      <td>13.0</td>\n      <td>Maricopa</td>\n      <td>1</td>\n      <td>people stop my sister in the street to make fu...</td>\n      <td>people stop sister street fun wearing mask s a...</td>\n      <td>...</td>\n      <td>0</td>\n      <td>POS</td>\n      <td>0</td>\n      <td>0</td>\n      <td>1</td>\n      <td>0</td>\n      <td>0</td>\n      <td>1</td>\n      <td>0</td>\n      <td>1</td>\n    </tr>\n    <tr>\n      <th>3</th>\n      <td>id:1226765442548719616</td>\n      <td>2020-02-10 07:10:48+00:00</td>\n      <td>60008.0</td>\n      <td>51176.0</td>\n      <td>5.0</td>\n      <td>119.0</td>\n      <td>Pulaski</td>\n      <td>0</td>\n      <td>coronavirus death toll surpasses the number o...</td>\n      <td>coronavirus death toll surpass number fatal...</td>\n      <td>...</td>\n      <td>1</td>\n      <td>NEG</td>\n      <td>0</td>\n      <td>0</td>\n      <td>0</td>\n      <td>1</td>\n      <td>0</td>\n      <td>0</td>\n      <td>1</td>\n      <td>0</td>\n    </tr>\n    <tr>\n      <th>4</th>\n      <td>id:1226765540229861376</td>\n      <td>2020-02-10 07:11:11+00:00</td>\n      <td>60008.0</td>\n      <td>51176.0</td>\n      <td>5.0</td>\n      <td>119.0</td>\n      <td>Pulaski</td>\n      <td>0</td>\n      <td>coronavirus cases aboard japanese cruise ship...</td>\n      <td>coronavirus case aboard japanese cruise shi...</td>\n      <td>...</td>\n      <td>1</td>\n      <td>NEG</td>\n      <td>0</td>\n      <td>0</td>\n      <td>0</td>\n      <td>1</td>\n      <td>0</td>\n      <td>0</td>\n      <td>1</td>\n      <td>0</td>\n    </tr>\n  </tbody>\n</table>\n<p>5 rows × 39 columns</p>\n</div>"
     },
     "metadata": {},
     "execution_count": 3
    }
   ],
   "source": [
    "raw.head()"
   ]
  },
  {
   "cell_type": "code",
   "execution_count": 4,
   "metadata": {},
   "outputs": [
    {
     "output_type": "execute_result",
     "data": {
      "text/plain": [
       "                    id_str                created_at  follower_count  \\\n",
       "2   id:1226764107958734851 2020-02-10 07:05:30+00:00           235.0   \n",
       "6   id:1226766434052669442 2020-02-10 07:14:44+00:00           573.0   \n",
       "9   id:1226767736388239360 2020-02-10 07:19:55+00:00            87.0   \n",
       "27  id:1226325348247310337 2020-02-09 02:02:01+00:00          1196.0   \n",
       "54  id:1232651646775234560 2020-02-26 13:00:28+00:00         63557.0   \n",
       "\n",
       "    friends_count statefips countyfips   countyname  is_urban  \\\n",
       "2           130.0       4.0       13.0     Maricopa         1   \n",
       "6          2550.0       6.0       37.0  Los Angeles         1   \n",
       "9           176.0       6.0        1.0      Alameda         1   \n",
       "27         1661.0      39.0      117.0       Morrow         0   \n",
       "54         1027.0      12.0       86.0   Miami-Dade         1   \n",
       "\n",
       "                                               ogtext  \\\n",
       "2   people stop my sister in the street to make fu...   \n",
       "6   clean hands is paramount in preventing the spr...   \n",
       "9   japan keeps people on cruise ship and announce...   \n",
       "27  if they pulled the stuff in the sixties and se...   \n",
       "54  in preparation for the possibility of local de...   \n",
       "\n",
       "                                            cleantext  ... t:0.95 category  \\\n",
       "2   people stop sister street fun wearing mask s a...  ...      0      POS   \n",
       "6   clean hand paramount prevent spread flu corona...  ...      1      POS   \n",
       "9   japan keep people cruise ship announce case to...  ...      1      NEG   \n",
       "27  pulled stuff sixty seventy asse handed throw j...  ...      1      NEG   \n",
       "54  preparation possibility local detection prepar...  ...      0      NEG   \n",
       "\n",
       "   is_neutral is_neutral2 is_positive2 is_negative2 is_neutral3  is_positive3  \\\n",
       "2           0           0            1            0           0             1   \n",
       "6           0           0            1            0           0             1   \n",
       "9           0           0            0            1           0             0   \n",
       "27          0           0            0            1           0             0   \n",
       "54          0           0            0            1           0             0   \n",
       "\n",
       "   is_negative3  in_cdc  \n",
       "2             0       1  \n",
       "6             0       1  \n",
       "9             1       1  \n",
       "27            1       1  \n",
       "54            1       1  \n",
       "\n",
       "[5 rows x 39 columns]"
      ],
      "text/html": "<div>\n<style scoped>\n    .dataframe tbody tr th:only-of-type {\n        vertical-align: middle;\n    }\n\n    .dataframe tbody tr th {\n        vertical-align: top;\n    }\n\n    .dataframe thead th {\n        text-align: right;\n    }\n</style>\n<table border=\"1\" class=\"dataframe\">\n  <thead>\n    <tr style=\"text-align: right;\">\n      <th></th>\n      <th>id_str</th>\n      <th>created_at</th>\n      <th>follower_count</th>\n      <th>friends_count</th>\n      <th>statefips</th>\n      <th>countyfips</th>\n      <th>countyname</th>\n      <th>is_urban</th>\n      <th>ogtext</th>\n      <th>cleantext</th>\n      <th>...</th>\n      <th>t:0.95</th>\n      <th>category</th>\n      <th>is_neutral</th>\n      <th>is_neutral2</th>\n      <th>is_positive2</th>\n      <th>is_negative2</th>\n      <th>is_neutral3</th>\n      <th>is_positive3</th>\n      <th>is_negative3</th>\n      <th>in_cdc</th>\n    </tr>\n  </thead>\n  <tbody>\n    <tr>\n      <th>2</th>\n      <td>id:1226764107958734851</td>\n      <td>2020-02-10 07:05:30+00:00</td>\n      <td>235.0</td>\n      <td>130.0</td>\n      <td>4.0</td>\n      <td>13.0</td>\n      <td>Maricopa</td>\n      <td>1</td>\n      <td>people stop my sister in the street to make fu...</td>\n      <td>people stop sister street fun wearing mask s a...</td>\n      <td>...</td>\n      <td>0</td>\n      <td>POS</td>\n      <td>0</td>\n      <td>0</td>\n      <td>1</td>\n      <td>0</td>\n      <td>0</td>\n      <td>1</td>\n      <td>0</td>\n      <td>1</td>\n    </tr>\n    <tr>\n      <th>6</th>\n      <td>id:1226766434052669442</td>\n      <td>2020-02-10 07:14:44+00:00</td>\n      <td>573.0</td>\n      <td>2550.0</td>\n      <td>6.0</td>\n      <td>37.0</td>\n      <td>Los Angeles</td>\n      <td>1</td>\n      <td>clean hands is paramount in preventing the spr...</td>\n      <td>clean hand paramount prevent spread flu corona...</td>\n      <td>...</td>\n      <td>1</td>\n      <td>POS</td>\n      <td>0</td>\n      <td>0</td>\n      <td>1</td>\n      <td>0</td>\n      <td>0</td>\n      <td>1</td>\n      <td>0</td>\n      <td>1</td>\n    </tr>\n    <tr>\n      <th>9</th>\n      <td>id:1226767736388239360</td>\n      <td>2020-02-10 07:19:55+00:00</td>\n      <td>87.0</td>\n      <td>176.0</td>\n      <td>6.0</td>\n      <td>1.0</td>\n      <td>Alameda</td>\n      <td>1</td>\n      <td>japan keeps people on cruise ship and announce...</td>\n      <td>japan keep people cruise ship announce case to...</td>\n      <td>...</td>\n      <td>1</td>\n      <td>NEG</td>\n      <td>0</td>\n      <td>0</td>\n      <td>0</td>\n      <td>1</td>\n      <td>0</td>\n      <td>0</td>\n      <td>1</td>\n      <td>1</td>\n    </tr>\n    <tr>\n      <th>27</th>\n      <td>id:1226325348247310337</td>\n      <td>2020-02-09 02:02:01+00:00</td>\n      <td>1196.0</td>\n      <td>1661.0</td>\n      <td>39.0</td>\n      <td>117.0</td>\n      <td>Morrow</td>\n      <td>0</td>\n      <td>if they pulled the stuff in the sixties and se...</td>\n      <td>pulled stuff sixty seventy asse handed throw j...</td>\n      <td>...</td>\n      <td>1</td>\n      <td>NEG</td>\n      <td>0</td>\n      <td>0</td>\n      <td>0</td>\n      <td>1</td>\n      <td>0</td>\n      <td>0</td>\n      <td>1</td>\n      <td>1</td>\n    </tr>\n    <tr>\n      <th>54</th>\n      <td>id:1232651646775234560</td>\n      <td>2020-02-26 13:00:28+00:00</td>\n      <td>63557.0</td>\n      <td>1027.0</td>\n      <td>12.0</td>\n      <td>86.0</td>\n      <td>Miami-Dade</td>\n      <td>1</td>\n      <td>in preparation for the possibility of local de...</td>\n      <td>preparation possibility local detection prepar...</td>\n      <td>...</td>\n      <td>0</td>\n      <td>NEG</td>\n      <td>0</td>\n      <td>0</td>\n      <td>0</td>\n      <td>1</td>\n      <td>0</td>\n      <td>0</td>\n      <td>1</td>\n      <td>1</td>\n    </tr>\n  </tbody>\n</table>\n<p>5 rows × 39 columns</p>\n</div>"
     },
     "metadata": {},
     "execution_count": 4
    }
   ],
   "source": [
    "cdc.head()"
   ]
  },
  {
   "cell_type": "code",
   "execution_count": 20,
   "metadata": {},
   "outputs": [
    {
     "output_type": "execute_result",
     "data": {
      "text/plain": [
       "Index(['id_str', 'created_at', 'follower_count', 'friends_count', 'statefips',\n",
       "       'countyfips', 'countyname', 'is_urban', 'ogtext', 'cleantext',\n",
       "       'mentions', 'hashtags', 'pos', 'ner', 'sentiment', 'sent_confidence',\n",
       "       'date', 'week', 'time', 'hour', 'is_negative', 'is_positive',\n",
       "       'state_name', 'state_abv', 'fips', 'count', 'stage', 't:0.8', 't:0.9',\n",
       "       't:0.95', 'category', 'is_neutral', 'is_neutral2', 'is_positive2',\n",
       "       'is_negative2', 'is_neutral3', 'is_positive3', 'is_negative3',\n",
       "       'in_cdc'],\n",
       "      dtype='object')"
      ]
     },
     "metadata": {},
     "execution_count": 20
    }
   ],
   "source": [
    "raw.columns"
   ]
  },
  {
   "source": [
    "## getting some basic statistics for our two datasets"
   ],
   "cell_type": "markdown",
   "metadata": {}
  },
  {
   "cell_type": "code",
   "execution_count": 111,
   "metadata": {},
   "outputs": [
    {
     "output_type": "stream",
     "name": "stdout",
     "text": [
      "negative:\n",
      "raw data ...\n",
      "n counties = 52\n",
      "mean stage = count    52.0\n",
      "mean      4.0\n",
      "std       0.0\n",
      "min       4.0\n",
      "25%       4.0\n",
      "50%       4.0\n",
      "75%       4.0\n",
      "max       4.0\n",
      "Name: is_negative, dtype: float64\n",
      "mean= 0.5695728131406632, std= 0.06503213249811124\n",
      "\n",
      "cdc data ...\n",
      "n counties = 45\n",
      "mean stage = count    45.000000\n",
      "mean      3.933333\n",
      "std       0.447214\n",
      "min       1.000000\n",
      "25%       4.000000\n",
      "50%       4.000000\n",
      "75%       4.000000\n",
      "max       4.000000\n",
      "Name: is_negative, dtype: float64\n",
      "mean= 0.6206240091404913, std= 0.07926986053614529\n",
      "\n",
      "-------------------------\n",
      "\n",
      "neutral:\n",
      "raw data ...\n",
      "n counties = 51\n",
      "mean stage = count    51.000000\n",
      "mean      3.686275\n",
      "std       0.836426\n",
      "min       1.000000\n",
      "25%       4.000000\n",
      "50%       4.000000\n",
      "75%       4.000000\n",
      "max       4.000000\n",
      "Name: is_neutral, dtype: float64\n",
      "mean= 0.1326141750933576, std= 0.014980906157825736\n",
      "\n",
      "cdc data ...\n",
      "n counties = 35\n",
      "mean stage = count    35.000000\n",
      "mean      3.228571\n",
      "std       1.031439\n",
      "min       1.000000\n",
      "25%       2.500000\n",
      "50%       4.000000\n",
      "75%       4.000000\n",
      "max       4.000000\n",
      "Name: is_neutral, dtype: float64\n",
      "mean= 0.14641843264346244, std= 0.02621955492355592\n",
      "\n",
      "-------------------------\n",
      "\n",
      "positive:\n",
      "raw data ...\n",
      "n counties = 52\n",
      "mean stage = count    52.000000\n",
      "mean      3.903846\n",
      "std       0.454158\n",
      "min       1.000000\n",
      "25%       4.000000\n",
      "50%       4.000000\n",
      "75%       4.000000\n",
      "max       4.000000\n",
      "Name: is_positive, dtype: float64\n",
      "mean= 0.30045781287483914, std= 0.059464911968304106\n",
      "\n",
      "cdc data ...\n",
      "n counties = 43\n",
      "mean stage = count    43.000000\n",
      "mean      3.325581\n",
      "std       1.040168\n",
      "min       1.000000\n",
      "25%       3.000000\n",
      "50%       4.000000\n",
      "75%       4.000000\n",
      "max       4.000000\n",
      "Name: is_positive, dtype: float64\n",
      "mean= 0.2591955899193456, std= 0.05764005657864104\n",
      "\n",
      "-------------------------\n",
      "\n"
     ]
    }
   ],
   "source": [
    "## getting stats and printing statements for examination\n",
    "\n",
    "cats = 'negative neutral positive'.split(' ')\n",
    "\n",
    "for cat in cats:\n",
    "\n",
    "    print(f'{cat}:')\n",
    "\n",
    "    print('raw data ...')\n",
    "    raw_agg = raw.groupby(['state_abv', 'stage']).agg({f'is_{cat}2':'sum', f'is_{cat}':'mean'}).reset_index()\n",
    "\n",
    "\n",
    "    raw_agg = raw_agg[raw_agg[f'is_{cat}2'] > 15]\n",
    "\n",
    "\n",
    "    print(f'n counties = {len(raw_agg.groupby([\"state_abv\"]).agg({f\"is_{cat}\":\"count\"}).reset_index().index)}')\n",
    "    print(f'mean stage = {raw_agg.groupby([\"state_abv\"]).agg({f\"is_{cat}\":\"count\"}).reset_index()[f\"is_{cat}\"].describe()}')\n",
    "    print(f'mean= {raw_agg[f\"is_{cat}\"].mean()}, std= {raw_agg[f\"is_{cat}\"].std()}')\n",
    "\n",
    "\n",
    "    print()\n",
    "    print('cdc data ...')\n",
    "    cdc_agg = cdc.groupby(['state_abv', 'stage']).agg({f'is_{cat}2':'sum', f'is_{cat}':'mean'}).reset_index()\n",
    "\n",
    "\n",
    "    cdc_agg = cdc_agg[cdc_agg[f'is_{cat}2'] > 15]\n",
    "\n",
    "\n",
    "    print(f'n counties = {len(cdc_agg.groupby([\"state_abv\"]).agg({f\"is_{cat}\":\"sum\"}).reset_index().index)}')\n",
    "    print(f'mean stage = {cdc_agg.groupby([\"state_abv\"]).agg({f\"is_{cat}\":\"count\"}).reset_index()[f\"is_{cat}\"].describe()}')\n",
    "    print(f'mean= {cdc_agg[f\"is_{cat}\"].mean()}, std= {cdc_agg[f\"is_{cat}\"].std()}')\n",
    "\n",
    "    print()\n",
    "    print('-------------------------')\n",
    "    print()\n",
    "\n"
   ]
  },
  {
   "source": [
    "# Clustering pre-processing\n",
    "\n",
    "## finding states that fit qualifiers\n",
    "\n",
    "state must have more than 15 tweets and have a proportion of sentiment for each stage of the 4 found."
   ],
   "cell_type": "markdown",
   "metadata": {}
  },
  {
   "cell_type": "code",
   "execution_count": 112,
   "metadata": {},
   "outputs": [
    {
     "output_type": "stream",
     "name": "stdout",
     "text": [
      "n raw states = 44, n cdc states = 20\n"
     ]
    }
   ],
   "source": [
    "# finding states that have all time series stage marks\n",
    "\n",
    "import numpy as np\n",
    "\n",
    "raw2cnt = []\n",
    "cdc2cnt = []\n",
    "\n",
    "cats = 'negative neutral positive'.split(' ')\n",
    "\n",
    "for i, cat in enumerate(cats):\n",
    "    # find counts for each state\n",
    "\n",
    "    raw_agg = raw.groupby(['state_abv', 'stage']).agg({f'is_{cat}2':'sum', f'is_{cat}':'mean'}).reset_index()\n",
    "    raw_agg = raw_agg[raw_agg[f'is_{cat}2'] > 15]\n",
    "    raw_cnt = raw_agg.groupby([\"state_abv\"]).agg({f\"is_{cat}\":\"count\"}).reset_index()\n",
    "\n",
    "    raw2cnt.append({state: n for _, state, n in raw_cnt.itertuples()})\n",
    "\n",
    "    cdc_agg = cdc.groupby(['state_abv', 'stage']).agg({f'is_{cat}2':'sum', f'is_{cat}':'mean'}).reset_index()\n",
    "    cdc_agg = cdc_agg[cdc_agg[f'is_{cat}2'] > 15]\n",
    "    cdc_cnt = cdc_agg.groupby([\"state_abv\"]).agg({f\"is_{cat}\":\"count\"}).reset_index()\n",
    "\n",
    "    cdc2cnt.append({state: n for _, state, n in cdc_cnt.itertuples()})\n",
    "\n",
    "state2keep_raw = {}\n",
    "state2keep_cdc = {}\n",
    "\n",
    "for state in raw['state_abv'].unique():\n",
    "    # make sure each state has enough data to fill all 4 stages\n",
    "\n",
    "    if state in raw2cnt[0] and state in raw2cnt[1] and state in raw2cnt[2]:\n",
    "        if raw2cnt[0][state] == 4 and raw2cnt[1][state] == 4 and raw2cnt[2][state] == 4:\n",
    "            state2keep_raw[state] = 1\n",
    "\n",
    "    if state in cdc2cnt[0] and state in cdc2cnt[1] and state in cdc2cnt[2]:\n",
    "        if cdc2cnt[0][state] == 4 and cdc2cnt[1][state] == 4 and cdc2cnt[2][state] == 4:\n",
    "            state2keep_cdc[state] = 1\n",
    "\n",
    "print(f'n raw states = {len(state2keep_raw)}, n cdc states = {len(state2keep_cdc)}')\n"
   ]
  },
  {
   "source": [
    "## vectorizing our data into\n",
    "\n",
    "[state\n",
    "... \n",
    "state]\n",
    "\n",
    "where state is \n",
    "\n",
    "[negative [stage1 stage2 stage3 stage4]\n",
    "neutral [stage1 stage2 stage3 stage4]\n",
    "positive [stage1 stage2 stage3 stage4]]"
   ],
   "cell_type": "markdown",
   "metadata": {}
  },
  {
   "cell_type": "code",
   "execution_count": 113,
   "metadata": {},
   "outputs": [
    {
     "output_type": "execute_result",
     "data": {
      "text/plain": [
       "array([[[0.70788705, 0.56614626, 0.52369668, 0.55824423],\n",
       "        [0.10516066, 0.15283484, 0.15876777, 0.14518852],\n",
       "        [0.18695229, 0.2810189 , 0.31753555, 0.29656725]],\n",
       "\n",
       "       [[0.73360656, 0.53820598, 0.63414634, 0.65188834],\n",
       "        [0.11065574, 0.18604651, 0.13821138, 0.14942529],\n",
       "        [0.1557377 , 0.27574751, 0.22764228, 0.19868637]],\n",
       "\n",
       "       [[0.71939044, 0.55864627, 0.57487923, 0.60961351],\n",
       "        [0.10825013, 0.1488178 , 0.14699793, 0.13835661],\n",
       "        [0.17235943, 0.29253593, 0.27812284, 0.25202988]]])"
      ]
     },
     "metadata": {},
     "execution_count": 113
    }
   ],
   "source": [
    "# vectorizing data\n",
    "# need a matrix for each state\n",
    "# matrix will be 3 deep (one for each sentiment)\n",
    "# x is stage step, y is proportion of sentiment at x\n",
    "\n",
    "cats = 'negative neutral positive'.split(' ')\n",
    "\n",
    "raw_states = np.zeros((len(state2keep_raw), 3, 4))\n",
    "cdc_states = np.zeros((len(state2keep_cdc), 3, 4))\n",
    "\n",
    "state2index_raw = {state: i for i, state in enumerate(state2keep_raw)}\n",
    "state2index_cdc = {state: i for i, state in enumerate(state2keep_cdc)}\n",
    "\n",
    "for state, index in state2index_raw.items():\n",
    "    for row, cat in enumerate(cats):\n",
    "        sent = raw[raw['state_abv'] == state].groupby(['stage']).agg({f'is_{cat}':'mean'}).reset_index()\n",
    "        for stage, p in sent.groupby('stage'):\n",
    "            col = int(stage.split(':')[1]) - 1\n",
    "            raw_states[index, row, col] = p[f'is_{cat}'].values[0]\n",
    "\n",
    "for state, index in state2index_cdc.items():\n",
    "    for row, cat in enumerate(cats):\n",
    "        sent = cdc[cdc['state_abv'] == state].groupby(['stage']).agg({f'is_{cat}':'mean'}).reset_index()\n",
    "        for stage, p in sent.groupby('stage'):\n",
    "            col = int(stage.split(':')[1]) - 1\n",
    "            cdc_states[index, row, col] = p[f'is_{cat}'].values[0]\n",
    "\n",
    "cdc_states[0:3]"
   ]
  },
  {
   "source": [
    "# Clustering and graphs\n",
    "\n",
    "## raw dataset"
   ],
   "cell_type": "markdown",
   "metadata": {}
  },
  {
   "cell_type": "code",
   "execution_count": 197,
   "metadata": {},
   "outputs": [
    {
     "output_type": "execute_result",
     "data": {
      "text/plain": [
       "<Figure size 576x576 with 6 Axes>"
      ],
      "image/svg+xml": "<?xml version=\"1.0\" encoding=\"utf-8\" standalone=\"no\"?>\r\n<!DOCTYPE svg PUBLIC \"-//W3C//DTD SVG 1.1//EN\"\r\n  \"http://www.w3.org/Graphics/SVG/1.1/DTD/svg11.dtd\">\r\n<!-- Created with matplotlib (https://matplotlib.org/) -->\r\n<svg height=\"481.07625pt\" version=\"1.1\" viewBox=\"0 0 483.703125 481.07625\" width=\"483.703125pt\" xmlns=\"http://www.w3.org/2000/svg\" xmlns:xlink=\"http://www.w3.org/1999/xlink\">\r\n <defs>\r\n  <style type=\"text/css\">\r\n*{stroke-linecap:butt;stroke-linejoin:round;}\r\n  </style>\r\n </defs>\r\n <g id=\"figure_1\">\r\n  <g id=\"patch_1\">\r\n   <path d=\"M 0 481.07625 \r\nL 483.703125 481.07625 \r\nL 483.703125 0 \r\nL 0 0 \r\nz\r\n\" style=\"fill:none;\"/>\r\n  </g>\r\n  <g id=\"axes_1\">\r\n   <g id=\"patch_2\">\r\n    <path d=\"M 30.103125 150.224007 \r\nL 233.012216 150.224007 \r\nL 233.012216 22.318125 \r\nL 30.103125 22.318125 \r\nz\r\n\" style=\"fill:#ffffff;\"/>\r\n   </g>\r\n   <g id=\"matplotlib.axis_1\">\r\n    <g id=\"xtick_1\">\r\n     <g id=\"line2d_1\">\r\n      <defs>\r\n       <path d=\"M 0 0 \r\nL 0 3.5 \r\n\" id=\"m5afeaa8609\" style=\"stroke:#000000;stroke-width:0.8;\"/>\r\n      </defs>\r\n      <g>\r\n       <use style=\"stroke:#000000;stroke-width:0.8;\" x=\"39.326265\" xlink:href=\"#m5afeaa8609\" y=\"150.224007\"/>\r\n      </g>\r\n     </g>\r\n    </g>\r\n    <g id=\"xtick_2\">\r\n     <g id=\"line2d_2\">\r\n      <g>\r\n       <use style=\"stroke:#000000;stroke-width:0.8;\" x=\"100.813869\" xlink:href=\"#m5afeaa8609\" y=\"150.224007\"/>\r\n      </g>\r\n     </g>\r\n    </g>\r\n    <g id=\"xtick_3\">\r\n     <g id=\"line2d_3\">\r\n      <g>\r\n       <use style=\"stroke:#000000;stroke-width:0.8;\" x=\"162.301472\" xlink:href=\"#m5afeaa8609\" y=\"150.224007\"/>\r\n      </g>\r\n     </g>\r\n    </g>\r\n    <g id=\"xtick_4\">\r\n     <g id=\"line2d_4\">\r\n      <g>\r\n       <use style=\"stroke:#000000;stroke-width:0.8;\" x=\"223.789075\" xlink:href=\"#m5afeaa8609\" y=\"150.224007\"/>\r\n      </g>\r\n     </g>\r\n    </g>\r\n   </g>\r\n   <g id=\"matplotlib.axis_2\">\r\n    <g id=\"ytick_1\">\r\n     <g id=\"line2d_5\">\r\n      <defs>\r\n       <path d=\"M 0 0 \r\nL -3.5 0 \r\n\" id=\"mb0c96f6d09\" style=\"stroke:#000000;stroke-width:0.8;\"/>\r\n      </defs>\r\n      <g>\r\n       <use style=\"stroke:#000000;stroke-width:0.8;\" x=\"30.103125\" xlink:href=\"#mb0c96f6d09\" y=\"124.624044\"/>\r\n      </g>\r\n     </g>\r\n     <g id=\"text_1\">\r\n      <!-- 0.2 -->\r\n      <defs>\r\n       <path d=\"M 31.78125 66.40625 \r\nQ 24.171875 66.40625 20.328125 58.90625 \r\nQ 16.5 51.421875 16.5 36.375 \r\nQ 16.5 21.390625 20.328125 13.890625 \r\nQ 24.171875 6.390625 31.78125 6.390625 \r\nQ 39.453125 6.390625 43.28125 13.890625 \r\nQ 47.125 21.390625 47.125 36.375 \r\nQ 47.125 51.421875 43.28125 58.90625 \r\nQ 39.453125 66.40625 31.78125 66.40625 \r\nz\r\nM 31.78125 74.21875 \r\nQ 44.046875 74.21875 50.515625 64.515625 \r\nQ 56.984375 54.828125 56.984375 36.375 \r\nQ 56.984375 17.96875 50.515625 8.265625 \r\nQ 44.046875 -1.421875 31.78125 -1.421875 \r\nQ 19.53125 -1.421875 13.0625 8.265625 \r\nQ 6.59375 17.96875 6.59375 36.375 \r\nQ 6.59375 54.828125 13.0625 64.515625 \r\nQ 19.53125 74.21875 31.78125 74.21875 \r\nz\r\n\" id=\"DejaVuSans-48\"/>\r\n       <path d=\"M 10.6875 12.40625 \r\nL 21 12.40625 \r\nL 21 0 \r\nL 10.6875 0 \r\nz\r\n\" id=\"DejaVuSans-46\"/>\r\n       <path d=\"M 19.1875 8.296875 \r\nL 53.609375 8.296875 \r\nL 53.609375 0 \r\nL 7.328125 0 \r\nL 7.328125 8.296875 \r\nQ 12.9375 14.109375 22.625 23.890625 \r\nQ 32.328125 33.6875 34.8125 36.53125 \r\nQ 39.546875 41.84375 41.421875 45.53125 \r\nQ 43.3125 49.21875 43.3125 52.78125 \r\nQ 43.3125 58.59375 39.234375 62.25 \r\nQ 35.15625 65.921875 28.609375 65.921875 \r\nQ 23.96875 65.921875 18.8125 64.3125 \r\nQ 13.671875 62.703125 7.8125 59.421875 \r\nL 7.8125 69.390625 \r\nQ 13.765625 71.78125 18.9375 73 \r\nQ 24.125 74.21875 28.421875 74.21875 \r\nQ 39.75 74.21875 46.484375 68.546875 \r\nQ 53.21875 62.890625 53.21875 53.421875 \r\nQ 53.21875 48.921875 51.53125 44.890625 \r\nQ 49.859375 40.875 45.40625 35.40625 \r\nQ 44.1875 33.984375 37.640625 27.21875 \r\nQ 31.109375 20.453125 19.1875 8.296875 \r\nz\r\n\" id=\"DejaVuSans-50\"/>\r\n      </defs>\r\n      <g transform=\"translate(7.2 128.423263)scale(0.1 -0.1)\">\r\n       <use xlink:href=\"#DejaVuSans-48\"/>\r\n       <use x=\"63.623047\" xlink:href=\"#DejaVuSans-46\"/>\r\n       <use x=\"95.410156\" xlink:href=\"#DejaVuSans-50\"/>\r\n      </g>\r\n     </g>\r\n    </g>\r\n    <g id=\"ytick_2\">\r\n     <g id=\"line2d_6\">\r\n      <g>\r\n       <use style=\"stroke:#000000;stroke-width:0.8;\" x=\"30.103125\" xlink:href=\"#mb0c96f6d09\" y=\"87.250376\"/>\r\n      </g>\r\n     </g>\r\n     <g id=\"text_2\">\r\n      <!-- 0.4 -->\r\n      <defs>\r\n       <path d=\"M 37.796875 64.3125 \r\nL 12.890625 25.390625 \r\nL 37.796875 25.390625 \r\nz\r\nM 35.203125 72.90625 \r\nL 47.609375 72.90625 \r\nL 47.609375 25.390625 \r\nL 58.015625 25.390625 \r\nL 58.015625 17.1875 \r\nL 47.609375 17.1875 \r\nL 47.609375 0 \r\nL 37.796875 0 \r\nL 37.796875 17.1875 \r\nL 4.890625 17.1875 \r\nL 4.890625 26.703125 \r\nz\r\n\" id=\"DejaVuSans-52\"/>\r\n      </defs>\r\n      <g transform=\"translate(7.2 91.049595)scale(0.1 -0.1)\">\r\n       <use xlink:href=\"#DejaVuSans-48\"/>\r\n       <use x=\"63.623047\" xlink:href=\"#DejaVuSans-46\"/>\r\n       <use x=\"95.410156\" xlink:href=\"#DejaVuSans-52\"/>\r\n      </g>\r\n     </g>\r\n    </g>\r\n    <g id=\"ytick_3\">\r\n     <g id=\"line2d_7\">\r\n      <g>\r\n       <use style=\"stroke:#000000;stroke-width:0.8;\" x=\"30.103125\" xlink:href=\"#mb0c96f6d09\" y=\"49.876708\"/>\r\n      </g>\r\n     </g>\r\n     <g id=\"text_3\">\r\n      <!-- 0.6 -->\r\n      <defs>\r\n       <path d=\"M 33.015625 40.375 \r\nQ 26.375 40.375 22.484375 35.828125 \r\nQ 18.609375 31.296875 18.609375 23.390625 \r\nQ 18.609375 15.53125 22.484375 10.953125 \r\nQ 26.375 6.390625 33.015625 6.390625 \r\nQ 39.65625 6.390625 43.53125 10.953125 \r\nQ 47.40625 15.53125 47.40625 23.390625 \r\nQ 47.40625 31.296875 43.53125 35.828125 \r\nQ 39.65625 40.375 33.015625 40.375 \r\nz\r\nM 52.59375 71.296875 \r\nL 52.59375 62.3125 \r\nQ 48.875 64.0625 45.09375 64.984375 \r\nQ 41.3125 65.921875 37.59375 65.921875 \r\nQ 27.828125 65.921875 22.671875 59.328125 \r\nQ 17.53125 52.734375 16.796875 39.40625 \r\nQ 19.671875 43.65625 24.015625 45.921875 \r\nQ 28.375 48.1875 33.59375 48.1875 \r\nQ 44.578125 48.1875 50.953125 41.515625 \r\nQ 57.328125 34.859375 57.328125 23.390625 \r\nQ 57.328125 12.15625 50.6875 5.359375 \r\nQ 44.046875 -1.421875 33.015625 -1.421875 \r\nQ 20.359375 -1.421875 13.671875 8.265625 \r\nQ 6.984375 17.96875 6.984375 36.375 \r\nQ 6.984375 53.65625 15.1875 63.9375 \r\nQ 23.390625 74.21875 37.203125 74.21875 \r\nQ 40.921875 74.21875 44.703125 73.484375 \r\nQ 48.484375 72.75 52.59375 71.296875 \r\nz\r\n\" id=\"DejaVuSans-54\"/>\r\n      </defs>\r\n      <g transform=\"translate(7.2 53.675927)scale(0.1 -0.1)\">\r\n       <use xlink:href=\"#DejaVuSans-48\"/>\r\n       <use x=\"63.623047\" xlink:href=\"#DejaVuSans-46\"/>\r\n       <use x=\"95.410156\" xlink:href=\"#DejaVuSans-54\"/>\r\n      </g>\r\n     </g>\r\n    </g>\r\n   </g>\r\n   <g id=\"line2d_8\">\r\n    <path clip-path=\"url(#p2306b07b16)\" d=\"M 39.326265 29.009321 \r\nL 100.813869 53.647487 \r\nL 162.301472 60.230424 \r\nL 223.789075 55.485591 \r\nL 39.326265 34.822354 \r\nL 100.813869 48.735304 \r\nL 162.301472 60.703675 \r\nL 223.789075 52.73558 \r\nL 39.326265 33.60817 \r\nL 100.813869 60.488984 \r\nL 162.301472 70.395585 \r\nL 223.789075 58.548211 \r\nL 39.326265 40.810819 \r\nL 100.813869 47.186573 \r\nL 162.301472 59.649328 \r\nL 223.789075 60.649396 \r\nL 39.326265 35.452206 \r\nL 100.813869 55.769229 \r\nL 162.301472 62.290577 \r\nL 223.789075 62.022673 \r\nL 39.326265 32.106019 \r\nL 100.813869 56.639251 \r\nL 162.301472 66.83328 \r\nL 223.789075 57.482086 \r\nL 39.326265 29.655207 \r\nL 100.813869 57.10019 \r\nL 162.301472 64.771729 \r\nL 223.789075 60.606237 \r\nL 39.326265 36.147606 \r\nL 100.813869 58.367685 \r\nL 162.301472 58.632361 \r\nL 223.789075 56.498027 \r\nL 39.326265 35.552515 \r\nL 100.813869 53.767974 \r\nL 162.301472 65.439828 \r\nL 223.789075 58.588268 \r\nL 39.326265 30.684825 \r\nL 100.813869 51.681356 \r\nL 162.301472 64.760027 \r\nL 223.789075 56.752715 \r\nL 39.326265 34.8965 \r\nL 100.813869 60.197807 \r\nL 162.301472 63.969417 \r\nL 223.789075 58.021324 \r\nL 39.326265 42.311646 \r\nL 100.813869 63.15826 \r\nL 162.301472 59.610391 \r\nL 223.789075 49.474841 \r\nL 39.326265 32.717729 \r\nL 100.813869 51.793307 \r\nL 162.301472 73.029803 \r\nL 223.789075 61.77915 \r\nL 39.326265 44.177498 \r\nL 100.813869 53.467192 \r\nL 162.301472 65.103017 \r\nL 223.789075 57.986089 \r\nL 39.326265 31.189874 \r\nL 100.813869 60.710975 \r\nL 162.301472 67.702037 \r\nL 223.789075 59.214459 \r\nL 39.326265 33.952793 \r\nL 100.813869 59.138165 \r\nL 162.301472 65.113241 \r\nL 223.789075 55.591796 \r\nL 39.326265 33.661219 \r\nL 100.813869 59.95975 \r\nL 162.301472 65.110326 \r\nL 223.789075 60.126343 \r\nL 39.326265 38.613919 \r\nL 100.813869 58.256655 \r\nL 162.301472 66.249542 \r\nL 223.789075 59.148181 \r\nL 39.326265 28.132029 \r\nL 100.813869 52.24964 \r\nL 162.301472 64.005778 \r\nL 223.789075 51.728557 \r\nL 39.326265 30.695949 \r\nL 100.813869 57.548418 \r\nL 162.301472 69.889477 \r\nL 223.789075 66.844739 \r\nL 39.326265 40.080761 \r\nL 100.813869 61.301819 \r\nL 162.301472 72.047528 \r\nL 223.789075 51.749648 \r\nL 39.326265 34.768204 \r\nL 100.813869 57.256222 \r\nL 162.301472 54.387323 \r\nL 223.789075 58.948944 \r\nL 39.326265 31.704191 \r\nL 100.813869 61.282958 \r\nL 162.301472 73.802841 \r\nL 223.789075 60.655321 \r\nL 39.326265 35.06125 \r\nL 100.813869 50.886807 \r\nL 162.301472 67.300918 \r\nL 223.789075 65.325724 \r\nL 39.326265 33.484749 \r\nL 100.813869 64.343935 \r\nL 162.301472 70.990404 \r\nL 223.789075 51.044635 \r\n\" style=\"fill:none;stroke:#1f77b4;stroke-linecap:square;stroke-width:1.5;\"/>\r\n   </g>\r\n   <g id=\"line2d_9\">\r\n    <path clip-path=\"url(#p2306b07b16)\" d=\"M 39.326265 34.531894 \r\nL 100.813869 56.597438 \r\nL 162.301472 65.280754 \r\nL 223.789075 57.880341 \r\n\" style=\"fill:none;stroke:#ff0000;stroke-linecap:square;stroke-width:1.5;\"/>\r\n   </g>\r\n   <g id=\"patch_3\">\r\n    <path d=\"M 30.103125 150.224007 \r\nL 30.103125 22.318125 \r\n\" style=\"fill:none;stroke:#000000;stroke-linecap:square;stroke-linejoin:miter;stroke-width:0.8;\"/>\r\n   </g>\r\n   <g id=\"patch_4\">\r\n    <path d=\"M 233.012216 150.224007 \r\nL 233.012216 22.318125 \r\n\" style=\"fill:none;stroke:#000000;stroke-linecap:square;stroke-linejoin:miter;stroke-width:0.8;\"/>\r\n   </g>\r\n   <g id=\"patch_5\">\r\n    <path d=\"M 30.103125 150.224007 \r\nL 233.012216 150.224007 \r\n\" style=\"fill:none;stroke:#000000;stroke-linecap:square;stroke-linejoin:miter;stroke-width:0.8;\"/>\r\n   </g>\r\n   <g id=\"patch_6\">\r\n    <path d=\"M 30.103125 22.318125 \r\nL 233.012216 22.318125 \r\n\" style=\"fill:none;stroke:#000000;stroke-linecap:square;stroke-linejoin:miter;stroke-width:0.8;\"/>\r\n   </g>\r\n   <g id=\"text_4\">\r\n    <!-- cluster: 0, sentiment: negative -->\r\n    <defs>\r\n     <path d=\"M 48.78125 52.59375 \r\nL 48.78125 44.1875 \r\nQ 44.96875 46.296875 41.140625 47.34375 \r\nQ 37.3125 48.390625 33.40625 48.390625 \r\nQ 24.65625 48.390625 19.8125 42.84375 \r\nQ 14.984375 37.3125 14.984375 27.296875 \r\nQ 14.984375 17.28125 19.8125 11.734375 \r\nQ 24.65625 6.203125 33.40625 6.203125 \r\nQ 37.3125 6.203125 41.140625 7.25 \r\nQ 44.96875 8.296875 48.78125 10.40625 \r\nL 48.78125 2.09375 \r\nQ 45.015625 0.34375 40.984375 -0.53125 \r\nQ 36.96875 -1.421875 32.421875 -1.421875 \r\nQ 20.0625 -1.421875 12.78125 6.34375 \r\nQ 5.515625 14.109375 5.515625 27.296875 \r\nQ 5.515625 40.671875 12.859375 48.328125 \r\nQ 20.21875 56 33.015625 56 \r\nQ 37.15625 56 41.109375 55.140625 \r\nQ 45.0625 54.296875 48.78125 52.59375 \r\nz\r\n\" id=\"DejaVuSans-99\"/>\r\n     <path d=\"M 9.421875 75.984375 \r\nL 18.40625 75.984375 \r\nL 18.40625 0 \r\nL 9.421875 0 \r\nz\r\n\" id=\"DejaVuSans-108\"/>\r\n     <path d=\"M 8.5 21.578125 \r\nL 8.5 54.6875 \r\nL 17.484375 54.6875 \r\nL 17.484375 21.921875 \r\nQ 17.484375 14.15625 20.5 10.265625 \r\nQ 23.53125 6.390625 29.59375 6.390625 \r\nQ 36.859375 6.390625 41.078125 11.03125 \r\nQ 45.3125 15.671875 45.3125 23.6875 \r\nL 45.3125 54.6875 \r\nL 54.296875 54.6875 \r\nL 54.296875 0 \r\nL 45.3125 0 \r\nL 45.3125 8.40625 \r\nQ 42.046875 3.421875 37.71875 1 \r\nQ 33.40625 -1.421875 27.6875 -1.421875 \r\nQ 18.265625 -1.421875 13.375 4.4375 \r\nQ 8.5 10.296875 8.5 21.578125 \r\nz\r\nM 31.109375 56 \r\nz\r\n\" id=\"DejaVuSans-117\"/>\r\n     <path d=\"M 44.28125 53.078125 \r\nL 44.28125 44.578125 \r\nQ 40.484375 46.53125 36.375 47.5 \r\nQ 32.28125 48.484375 27.875 48.484375 \r\nQ 21.1875 48.484375 17.84375 46.4375 \r\nQ 14.5 44.390625 14.5 40.28125 \r\nQ 14.5 37.15625 16.890625 35.375 \r\nQ 19.28125 33.59375 26.515625 31.984375 \r\nL 29.59375 31.296875 \r\nQ 39.15625 29.25 43.1875 25.515625 \r\nQ 47.21875 21.78125 47.21875 15.09375 \r\nQ 47.21875 7.46875 41.1875 3.015625 \r\nQ 35.15625 -1.421875 24.609375 -1.421875 \r\nQ 20.21875 -1.421875 15.453125 -0.5625 \r\nQ 10.6875 0.296875 5.421875 2 \r\nL 5.421875 11.28125 \r\nQ 10.40625 8.6875 15.234375 7.390625 \r\nQ 20.0625 6.109375 24.8125 6.109375 \r\nQ 31.15625 6.109375 34.5625 8.28125 \r\nQ 37.984375 10.453125 37.984375 14.40625 \r\nQ 37.984375 18.0625 35.515625 20.015625 \r\nQ 33.0625 21.96875 24.703125 23.78125 \r\nL 21.578125 24.515625 \r\nQ 13.234375 26.265625 9.515625 29.90625 \r\nQ 5.8125 33.546875 5.8125 39.890625 \r\nQ 5.8125 47.609375 11.28125 51.796875 \r\nQ 16.75 56 26.8125 56 \r\nQ 31.78125 56 36.171875 55.265625 \r\nQ 40.578125 54.546875 44.28125 53.078125 \r\nz\r\n\" id=\"DejaVuSans-115\"/>\r\n     <path d=\"M 18.3125 70.21875 \r\nL 18.3125 54.6875 \r\nL 36.8125 54.6875 \r\nL 36.8125 47.703125 \r\nL 18.3125 47.703125 \r\nL 18.3125 18.015625 \r\nQ 18.3125 11.328125 20.140625 9.421875 \r\nQ 21.96875 7.515625 27.59375 7.515625 \r\nL 36.8125 7.515625 \r\nL 36.8125 0 \r\nL 27.59375 0 \r\nQ 17.1875 0 13.234375 3.875 \r\nQ 9.28125 7.765625 9.28125 18.015625 \r\nL 9.28125 47.703125 \r\nL 2.6875 47.703125 \r\nL 2.6875 54.6875 \r\nL 9.28125 54.6875 \r\nL 9.28125 70.21875 \r\nz\r\n\" id=\"DejaVuSans-116\"/>\r\n     <path d=\"M 56.203125 29.59375 \r\nL 56.203125 25.203125 \r\nL 14.890625 25.203125 \r\nQ 15.484375 15.921875 20.484375 11.0625 \r\nQ 25.484375 6.203125 34.421875 6.203125 \r\nQ 39.59375 6.203125 44.453125 7.46875 \r\nQ 49.3125 8.734375 54.109375 11.28125 \r\nL 54.109375 2.78125 \r\nQ 49.265625 0.734375 44.1875 -0.34375 \r\nQ 39.109375 -1.421875 33.890625 -1.421875 \r\nQ 20.796875 -1.421875 13.15625 6.1875 \r\nQ 5.515625 13.8125 5.515625 26.8125 \r\nQ 5.515625 40.234375 12.765625 48.109375 \r\nQ 20.015625 56 32.328125 56 \r\nQ 43.359375 56 49.78125 48.890625 \r\nQ 56.203125 41.796875 56.203125 29.59375 \r\nz\r\nM 47.21875 32.234375 \r\nQ 47.125 39.59375 43.09375 43.984375 \r\nQ 39.0625 48.390625 32.421875 48.390625 \r\nQ 24.90625 48.390625 20.390625 44.140625 \r\nQ 15.875 39.890625 15.1875 32.171875 \r\nz\r\n\" id=\"DejaVuSans-101\"/>\r\n     <path d=\"M 41.109375 46.296875 \r\nQ 39.59375 47.171875 37.8125 47.578125 \r\nQ 36.03125 48 33.890625 48 \r\nQ 26.265625 48 22.1875 43.046875 \r\nQ 18.109375 38.09375 18.109375 28.8125 \r\nL 18.109375 0 \r\nL 9.078125 0 \r\nL 9.078125 54.6875 \r\nL 18.109375 54.6875 \r\nL 18.109375 46.1875 \r\nQ 20.953125 51.171875 25.484375 53.578125 \r\nQ 30.03125 56 36.53125 56 \r\nQ 37.453125 56 38.578125 55.875 \r\nQ 39.703125 55.765625 41.0625 55.515625 \r\nz\r\n\" id=\"DejaVuSans-114\"/>\r\n     <path d=\"M 11.71875 12.40625 \r\nL 22.015625 12.40625 \r\nL 22.015625 0 \r\nL 11.71875 0 \r\nz\r\nM 11.71875 51.703125 \r\nL 22.015625 51.703125 \r\nL 22.015625 39.3125 \r\nL 11.71875 39.3125 \r\nz\r\n\" id=\"DejaVuSans-58\"/>\r\n     <path id=\"DejaVuSans-32\"/>\r\n     <path d=\"M 11.71875 12.40625 \r\nL 22.015625 12.40625 \r\nL 22.015625 4 \r\nL 14.015625 -11.625 \r\nL 7.71875 -11.625 \r\nL 11.71875 4 \r\nz\r\n\" id=\"DejaVuSans-44\"/>\r\n     <path d=\"M 54.890625 33.015625 \r\nL 54.890625 0 \r\nL 45.90625 0 \r\nL 45.90625 32.71875 \r\nQ 45.90625 40.484375 42.875 44.328125 \r\nQ 39.84375 48.1875 33.796875 48.1875 \r\nQ 26.515625 48.1875 22.3125 43.546875 \r\nQ 18.109375 38.921875 18.109375 30.90625 \r\nL 18.109375 0 \r\nL 9.078125 0 \r\nL 9.078125 54.6875 \r\nL 18.109375 54.6875 \r\nL 18.109375 46.1875 \r\nQ 21.34375 51.125 25.703125 53.5625 \r\nQ 30.078125 56 35.796875 56 \r\nQ 45.21875 56 50.046875 50.171875 \r\nQ 54.890625 44.34375 54.890625 33.015625 \r\nz\r\n\" id=\"DejaVuSans-110\"/>\r\n     <path d=\"M 9.421875 54.6875 \r\nL 18.40625 54.6875 \r\nL 18.40625 0 \r\nL 9.421875 0 \r\nz\r\nM 9.421875 75.984375 \r\nL 18.40625 75.984375 \r\nL 18.40625 64.59375 \r\nL 9.421875 64.59375 \r\nz\r\n\" id=\"DejaVuSans-105\"/>\r\n     <path d=\"M 52 44.1875 \r\nQ 55.375 50.25 60.0625 53.125 \r\nQ 64.75 56 71.09375 56 \r\nQ 79.640625 56 84.28125 50.015625 \r\nQ 88.921875 44.046875 88.921875 33.015625 \r\nL 88.921875 0 \r\nL 79.890625 0 \r\nL 79.890625 32.71875 \r\nQ 79.890625 40.578125 77.09375 44.375 \r\nQ 74.3125 48.1875 68.609375 48.1875 \r\nQ 61.625 48.1875 57.5625 43.546875 \r\nQ 53.515625 38.921875 53.515625 30.90625 \r\nL 53.515625 0 \r\nL 44.484375 0 \r\nL 44.484375 32.71875 \r\nQ 44.484375 40.625 41.703125 44.40625 \r\nQ 38.921875 48.1875 33.109375 48.1875 \r\nQ 26.21875 48.1875 22.15625 43.53125 \r\nQ 18.109375 38.875 18.109375 30.90625 \r\nL 18.109375 0 \r\nL 9.078125 0 \r\nL 9.078125 54.6875 \r\nL 18.109375 54.6875 \r\nL 18.109375 46.1875 \r\nQ 21.1875 51.21875 25.484375 53.609375 \r\nQ 29.78125 56 35.6875 56 \r\nQ 41.65625 56 45.828125 52.96875 \r\nQ 50 49.953125 52 44.1875 \r\nz\r\n\" id=\"DejaVuSans-109\"/>\r\n     <path d=\"M 45.40625 27.984375 \r\nQ 45.40625 37.75 41.375 43.109375 \r\nQ 37.359375 48.484375 30.078125 48.484375 \r\nQ 22.859375 48.484375 18.828125 43.109375 \r\nQ 14.796875 37.75 14.796875 27.984375 \r\nQ 14.796875 18.265625 18.828125 12.890625 \r\nQ 22.859375 7.515625 30.078125 7.515625 \r\nQ 37.359375 7.515625 41.375 12.890625 \r\nQ 45.40625 18.265625 45.40625 27.984375 \r\nz\r\nM 54.390625 6.78125 \r\nQ 54.390625 -7.171875 48.1875 -13.984375 \r\nQ 42 -20.796875 29.203125 -20.796875 \r\nQ 24.46875 -20.796875 20.265625 -20.09375 \r\nQ 16.0625 -19.390625 12.109375 -17.921875 \r\nL 12.109375 -9.1875 \r\nQ 16.0625 -11.328125 19.921875 -12.34375 \r\nQ 23.78125 -13.375 27.78125 -13.375 \r\nQ 36.625 -13.375 41.015625 -8.765625 \r\nQ 45.40625 -4.15625 45.40625 5.171875 \r\nL 45.40625 9.625 \r\nQ 42.625 4.78125 38.28125 2.390625 \r\nQ 33.9375 0 27.875 0 \r\nQ 17.828125 0 11.671875 7.65625 \r\nQ 5.515625 15.328125 5.515625 27.984375 \r\nQ 5.515625 40.671875 11.671875 48.328125 \r\nQ 17.828125 56 27.875 56 \r\nQ 33.9375 56 38.28125 53.609375 \r\nQ 42.625 51.21875 45.40625 46.390625 \r\nL 45.40625 54.6875 \r\nL 54.390625 54.6875 \r\nz\r\n\" id=\"DejaVuSans-103\"/>\r\n     <path d=\"M 34.28125 27.484375 \r\nQ 23.390625 27.484375 19.1875 25 \r\nQ 14.984375 22.515625 14.984375 16.5 \r\nQ 14.984375 11.71875 18.140625 8.90625 \r\nQ 21.296875 6.109375 26.703125 6.109375 \r\nQ 34.1875 6.109375 38.703125 11.40625 \r\nQ 43.21875 16.703125 43.21875 25.484375 \r\nL 43.21875 27.484375 \r\nz\r\nM 52.203125 31.203125 \r\nL 52.203125 0 \r\nL 43.21875 0 \r\nL 43.21875 8.296875 \r\nQ 40.140625 3.328125 35.546875 0.953125 \r\nQ 30.953125 -1.421875 24.3125 -1.421875 \r\nQ 15.921875 -1.421875 10.953125 3.296875 \r\nQ 6 8.015625 6 15.921875 \r\nQ 6 25.140625 12.171875 29.828125 \r\nQ 18.359375 34.515625 30.609375 34.515625 \r\nL 43.21875 34.515625 \r\nL 43.21875 35.40625 \r\nQ 43.21875 41.609375 39.140625 45 \r\nQ 35.0625 48.390625 27.6875 48.390625 \r\nQ 23 48.390625 18.546875 47.265625 \r\nQ 14.109375 46.140625 10.015625 43.890625 \r\nL 10.015625 52.203125 \r\nQ 14.9375 54.109375 19.578125 55.046875 \r\nQ 24.21875 56 28.609375 56 \r\nQ 40.484375 56 46.34375 49.84375 \r\nQ 52.203125 43.703125 52.203125 31.203125 \r\nz\r\n\" id=\"DejaVuSans-97\"/>\r\n     <path d=\"M 2.984375 54.6875 \r\nL 12.5 54.6875 \r\nL 29.59375 8.796875 \r\nL 46.6875 54.6875 \r\nL 56.203125 54.6875 \r\nL 35.6875 0 \r\nL 23.484375 0 \r\nz\r\n\" id=\"DejaVuSans-118\"/>\r\n    </defs>\r\n    <g transform=\"translate(39.197983 16.318125)scale(0.12 -0.12)\">\r\n     <use xlink:href=\"#DejaVuSans-99\"/>\r\n     <use x=\"54.980469\" xlink:href=\"#DejaVuSans-108\"/>\r\n     <use x=\"82.763672\" xlink:href=\"#DejaVuSans-117\"/>\r\n     <use x=\"146.142578\" xlink:href=\"#DejaVuSans-115\"/>\r\n     <use x=\"198.242188\" xlink:href=\"#DejaVuSans-116\"/>\r\n     <use x=\"237.451172\" xlink:href=\"#DejaVuSans-101\"/>\r\n     <use x=\"298.974609\" xlink:href=\"#DejaVuSans-114\"/>\r\n     <use x=\"338.337891\" xlink:href=\"#DejaVuSans-58\"/>\r\n     <use x=\"372.029297\" xlink:href=\"#DejaVuSans-32\"/>\r\n     <use x=\"403.816406\" xlink:href=\"#DejaVuSans-48\"/>\r\n     <use x=\"467.439453\" xlink:href=\"#DejaVuSans-44\"/>\r\n     <use x=\"499.226562\" xlink:href=\"#DejaVuSans-32\"/>\r\n     <use x=\"531.013672\" xlink:href=\"#DejaVuSans-115\"/>\r\n     <use x=\"583.113281\" xlink:href=\"#DejaVuSans-101\"/>\r\n     <use x=\"644.636719\" xlink:href=\"#DejaVuSans-110\"/>\r\n     <use x=\"708.015625\" xlink:href=\"#DejaVuSans-116\"/>\r\n     <use x=\"747.224609\" xlink:href=\"#DejaVuSans-105\"/>\r\n     <use x=\"775.007812\" xlink:href=\"#DejaVuSans-109\"/>\r\n     <use x=\"872.419922\" xlink:href=\"#DejaVuSans-101\"/>\r\n     <use x=\"933.943359\" xlink:href=\"#DejaVuSans-110\"/>\r\n     <use x=\"997.322266\" xlink:href=\"#DejaVuSans-116\"/>\r\n     <use x=\"1036.53125\" xlink:href=\"#DejaVuSans-58\"/>\r\n     <use x=\"1070.222656\" xlink:href=\"#DejaVuSans-32\"/>\r\n     <use x=\"1102.009766\" xlink:href=\"#DejaVuSans-110\"/>\r\n     <use x=\"1165.388672\" xlink:href=\"#DejaVuSans-101\"/>\r\n     <use x=\"1226.912109\" xlink:href=\"#DejaVuSans-103\"/>\r\n     <use x=\"1290.388672\" xlink:href=\"#DejaVuSans-97\"/>\r\n     <use x=\"1351.667969\" xlink:href=\"#DejaVuSans-116\"/>\r\n     <use x=\"1390.876953\" xlink:href=\"#DejaVuSans-105\"/>\r\n     <use x=\"1418.660156\" xlink:href=\"#DejaVuSans-118\"/>\r\n     <use x=\"1477.839844\" xlink:href=\"#DejaVuSans-101\"/>\r\n    </g>\r\n   </g>\r\n  </g>\r\n  <g id=\"axes_2\">\r\n   <g id=\"patch_7\">\r\n    <path d=\"M 273.594034 150.224007 \r\nL 476.503125 150.224007 \r\nL 476.503125 22.318125 \r\nL 273.594034 22.318125 \r\nz\r\n\" style=\"fill:#ffffff;\"/>\r\n   </g>\r\n   <g id=\"matplotlib.axis_3\">\r\n    <g id=\"xtick_5\">\r\n     <g id=\"line2d_10\">\r\n      <g>\r\n       <use style=\"stroke:#000000;stroke-width:0.8;\" x=\"282.817175\" xlink:href=\"#m5afeaa8609\" y=\"150.224007\"/>\r\n      </g>\r\n     </g>\r\n    </g>\r\n    <g id=\"xtick_6\">\r\n     <g id=\"line2d_11\">\r\n      <g>\r\n       <use style=\"stroke:#000000;stroke-width:0.8;\" x=\"344.304778\" xlink:href=\"#m5afeaa8609\" y=\"150.224007\"/>\r\n      </g>\r\n     </g>\r\n    </g>\r\n    <g id=\"xtick_7\">\r\n     <g id=\"line2d_12\">\r\n      <g>\r\n       <use style=\"stroke:#000000;stroke-width:0.8;\" x=\"405.792381\" xlink:href=\"#m5afeaa8609\" y=\"150.224007\"/>\r\n      </g>\r\n     </g>\r\n    </g>\r\n    <g id=\"xtick_8\">\r\n     <g id=\"line2d_13\">\r\n      <g>\r\n       <use style=\"stroke:#000000;stroke-width:0.8;\" x=\"467.279985\" xlink:href=\"#m5afeaa8609\" y=\"150.224007\"/>\r\n      </g>\r\n     </g>\r\n    </g>\r\n   </g>\r\n   <g id=\"matplotlib.axis_4\">\r\n    <g id=\"ytick_4\">\r\n     <g id=\"line2d_14\">\r\n      <g>\r\n       <use style=\"stroke:#000000;stroke-width:0.8;\" x=\"273.594034\" xlink:href=\"#mb0c96f6d09\" y=\"124.624044\"/>\r\n      </g>\r\n     </g>\r\n    </g>\r\n    <g id=\"ytick_5\">\r\n     <g id=\"line2d_15\">\r\n      <g>\r\n       <use style=\"stroke:#000000;stroke-width:0.8;\" x=\"273.594034\" xlink:href=\"#mb0c96f6d09\" y=\"87.250376\"/>\r\n      </g>\r\n     </g>\r\n    </g>\r\n    <g id=\"ytick_6\">\r\n     <g id=\"line2d_16\">\r\n      <g>\r\n       <use style=\"stroke:#000000;stroke-width:0.8;\" x=\"273.594034\" xlink:href=\"#mb0c96f6d09\" y=\"49.876708\"/>\r\n      </g>\r\n     </g>\r\n    </g>\r\n   </g>\r\n   <g id=\"line2d_17\">\r\n    <path clip-path=\"url(#p819a43634c)\" d=\"M 282.817175 39.797301 \r\nL 344.304778 60.382098 \r\nL 405.792381 68.951236 \r\nL 467.279985 68.042026 \r\nL 282.817175 38.003066 \r\nL 344.304778 57.365836 \r\nL 405.792381 68.268658 \r\nL 467.279985 61.592908 \r\nL 282.817175 39.47772 \r\nL 344.304778 57.883331 \r\nL 405.792381 65.25151 \r\nL 467.279985 64.017151 \r\nL 282.817175 40.682653 \r\nL 344.304778 57.845408 \r\nL 405.792381 70.366131 \r\nL 467.279985 65.718409 \r\nL 282.817175 43.16986 \r\nL 344.304778 59.79464 \r\nL 405.792381 69.544111 \r\nL 467.279985 67.170982 \r\nL 282.817175 39.351116 \r\nL 344.304778 59.670032 \r\nL 405.792381 65.236115 \r\nL 467.279985 61.78131 \r\nL 282.817175 38.715975 \r\nL 344.304778 58.841731 \r\nL 405.792381 63.285221 \r\nL 467.279985 62.941751 \r\nL 282.817175 36.914672 \r\nL 344.304778 58.259718 \r\nL 405.792381 65.411341 \r\nL 467.279985 63.939295 \r\nL 282.817175 39.610616 \r\nL 344.304778 62.188891 \r\nL 405.792381 65.024369 \r\nL 467.279985 66.129049 \r\nL 282.817175 37.950175 \r\nL 344.304778 58.291319 \r\nL 405.792381 67.53331 \r\nL 467.279985 61.499259 \r\nL 282.817175 35.285619 \r\nL 344.304778 60.481684 \r\nL 405.792381 64.826175 \r\nL 467.279985 61.935489 \r\nL 282.817175 38.585834 \r\nL 344.304778 61.691232 \r\nL 405.792381 64.826175 \r\nL 467.279985 64.488061 \r\nL 282.817175 43.206102 \r\nL 344.304778 62.532342 \r\nL 405.792381 63.812652 \r\nL 467.279985 64.408274 \r\nL 282.817175 46.403235 \r\nL 344.304778 61.207385 \r\nL 405.792381 77.404252 \r\nL 467.279985 71.835936 \r\nL 282.817175 42.781487 \r\nL 344.304778 51.342342 \r\nL 405.792381 69.54706 \r\nL 467.279985 65.6026 \r\nL 282.817175 38.774671 \r\nL 344.304778 55.629473 \r\nL 405.792381 67.881541 \r\nL 467.279985 63.8373 \r\nL 282.817175 36.381742 \r\nL 344.304778 62.144401 \r\nL 405.792381 68.984038 \r\nL 467.279985 64.881407 \r\nL 282.817175 42.803654 \r\nL 344.304778 61.861513 \r\nL 405.792381 73.121307 \r\nL 467.279985 74.187735 \r\nL 282.817175 43.408189 \r\nL 344.304778 63.568052 \r\nL 405.792381 66.920228 \r\nL 467.279985 67.065327 \r\n\" style=\"fill:none;stroke:#1f77b4;stroke-linecap:square;stroke-width:1.5;\"/>\r\n   </g>\r\n   <g id=\"line2d_18\">\r\n    <path clip-path=\"url(#p819a43634c)\" d=\"M 282.817175 40.068615 \r\nL 344.304778 59.525338 \r\nL 405.792381 67.694496 \r\nL 467.279985 65.319698 \r\n\" style=\"fill:none;stroke:#ff0000;stroke-linecap:square;stroke-width:1.5;\"/>\r\n   </g>\r\n   <g id=\"patch_8\">\r\n    <path d=\"M 273.594034 150.224007 \r\nL 273.594034 22.318125 \r\n\" style=\"fill:none;stroke:#000000;stroke-linecap:square;stroke-linejoin:miter;stroke-width:0.8;\"/>\r\n   </g>\r\n   <g id=\"patch_9\">\r\n    <path d=\"M 476.503125 150.224007 \r\nL 476.503125 22.318125 \r\n\" style=\"fill:none;stroke:#000000;stroke-linecap:square;stroke-linejoin:miter;stroke-width:0.8;\"/>\r\n   </g>\r\n   <g id=\"patch_10\">\r\n    <path d=\"M 273.594034 150.224007 \r\nL 476.503125 150.224007 \r\n\" style=\"fill:none;stroke:#000000;stroke-linecap:square;stroke-linejoin:miter;stroke-width:0.8;\"/>\r\n   </g>\r\n   <g id=\"patch_11\">\r\n    <path d=\"M 273.594034 22.318125 \r\nL 476.503125 22.318125 \r\n\" style=\"fill:none;stroke:#000000;stroke-linecap:square;stroke-linejoin:miter;stroke-width:0.8;\"/>\r\n   </g>\r\n   <g id=\"text_5\">\r\n    <!-- cluster: 1, sentiment: negative -->\r\n    <defs>\r\n     <path d=\"M 12.40625 8.296875 \r\nL 28.515625 8.296875 \r\nL 28.515625 63.921875 \r\nL 10.984375 60.40625 \r\nL 10.984375 69.390625 \r\nL 28.421875 72.90625 \r\nL 38.28125 72.90625 \r\nL 38.28125 8.296875 \r\nL 54.390625 8.296875 \r\nL 54.390625 0 \r\nL 12.40625 0 \r\nz\r\n\" id=\"DejaVuSans-49\"/>\r\n    </defs>\r\n    <g transform=\"translate(282.688892 16.318125)scale(0.12 -0.12)\">\r\n     <use xlink:href=\"#DejaVuSans-99\"/>\r\n     <use x=\"54.980469\" xlink:href=\"#DejaVuSans-108\"/>\r\n     <use x=\"82.763672\" xlink:href=\"#DejaVuSans-117\"/>\r\n     <use x=\"146.142578\" xlink:href=\"#DejaVuSans-115\"/>\r\n     <use x=\"198.242188\" xlink:href=\"#DejaVuSans-116\"/>\r\n     <use x=\"237.451172\" xlink:href=\"#DejaVuSans-101\"/>\r\n     <use x=\"298.974609\" xlink:href=\"#DejaVuSans-114\"/>\r\n     <use x=\"338.337891\" xlink:href=\"#DejaVuSans-58\"/>\r\n     <use x=\"372.029297\" xlink:href=\"#DejaVuSans-32\"/>\r\n     <use x=\"403.816406\" xlink:href=\"#DejaVuSans-49\"/>\r\n     <use x=\"467.439453\" xlink:href=\"#DejaVuSans-44\"/>\r\n     <use x=\"499.226562\" xlink:href=\"#DejaVuSans-32\"/>\r\n     <use x=\"531.013672\" xlink:href=\"#DejaVuSans-115\"/>\r\n     <use x=\"583.113281\" xlink:href=\"#DejaVuSans-101\"/>\r\n     <use x=\"644.636719\" xlink:href=\"#DejaVuSans-110\"/>\r\n     <use x=\"708.015625\" xlink:href=\"#DejaVuSans-116\"/>\r\n     <use x=\"747.224609\" xlink:href=\"#DejaVuSans-105\"/>\r\n     <use x=\"775.007812\" xlink:href=\"#DejaVuSans-109\"/>\r\n     <use x=\"872.419922\" xlink:href=\"#DejaVuSans-101\"/>\r\n     <use x=\"933.943359\" xlink:href=\"#DejaVuSans-110\"/>\r\n     <use x=\"997.322266\" xlink:href=\"#DejaVuSans-116\"/>\r\n     <use x=\"1036.53125\" xlink:href=\"#DejaVuSans-58\"/>\r\n     <use x=\"1070.222656\" xlink:href=\"#DejaVuSans-32\"/>\r\n     <use x=\"1102.009766\" xlink:href=\"#DejaVuSans-110\"/>\r\n     <use x=\"1165.388672\" xlink:href=\"#DejaVuSans-101\"/>\r\n     <use x=\"1226.912109\" xlink:href=\"#DejaVuSans-103\"/>\r\n     <use x=\"1290.388672\" xlink:href=\"#DejaVuSans-97\"/>\r\n     <use x=\"1351.667969\" xlink:href=\"#DejaVuSans-116\"/>\r\n     <use x=\"1390.876953\" xlink:href=\"#DejaVuSans-105\"/>\r\n     <use x=\"1418.660156\" xlink:href=\"#DejaVuSans-118\"/>\r\n     <use x=\"1477.839844\" xlink:href=\"#DejaVuSans-101\"/>\r\n    </g>\r\n   </g>\r\n  </g>\r\n  <g id=\"axes_3\">\r\n   <g id=\"patch_12\">\r\n    <path d=\"M 30.103125 303.711066 \r\nL 233.012216 303.711066 \r\nL 233.012216 175.805184 \r\nL 30.103125 175.805184 \r\nz\r\n\" style=\"fill:#ffffff;\"/>\r\n   </g>\r\n   <g id=\"matplotlib.axis_5\">\r\n    <g id=\"xtick_9\">\r\n     <g id=\"line2d_19\">\r\n      <g>\r\n       <use style=\"stroke:#000000;stroke-width:0.8;\" x=\"39.326265\" xlink:href=\"#m5afeaa8609\" y=\"303.711066\"/>\r\n      </g>\r\n     </g>\r\n    </g>\r\n    <g id=\"xtick_10\">\r\n     <g id=\"line2d_20\">\r\n      <g>\r\n       <use style=\"stroke:#000000;stroke-width:0.8;\" x=\"100.813869\" xlink:href=\"#m5afeaa8609\" y=\"303.711066\"/>\r\n      </g>\r\n     </g>\r\n    </g>\r\n    <g id=\"xtick_11\">\r\n     <g id=\"line2d_21\">\r\n      <g>\r\n       <use style=\"stroke:#000000;stroke-width:0.8;\" x=\"162.301472\" xlink:href=\"#m5afeaa8609\" y=\"303.711066\"/>\r\n      </g>\r\n     </g>\r\n    </g>\r\n    <g id=\"xtick_12\">\r\n     <g id=\"line2d_22\">\r\n      <g>\r\n       <use style=\"stroke:#000000;stroke-width:0.8;\" x=\"223.789075\" xlink:href=\"#m5afeaa8609\" y=\"303.711066\"/>\r\n      </g>\r\n     </g>\r\n    </g>\r\n   </g>\r\n   <g id=\"matplotlib.axis_6\">\r\n    <g id=\"ytick_7\">\r\n     <g id=\"line2d_23\">\r\n      <g>\r\n       <use style=\"stroke:#000000;stroke-width:0.8;\" x=\"30.103125\" xlink:href=\"#mb0c96f6d09\" y=\"278.111103\"/>\r\n      </g>\r\n     </g>\r\n     <g id=\"text_6\">\r\n      <!-- 0.2 -->\r\n      <g transform=\"translate(7.2 281.910322)scale(0.1 -0.1)\">\r\n       <use xlink:href=\"#DejaVuSans-48\"/>\r\n       <use x=\"63.623047\" xlink:href=\"#DejaVuSans-46\"/>\r\n       <use x=\"95.410156\" xlink:href=\"#DejaVuSans-50\"/>\r\n      </g>\r\n     </g>\r\n    </g>\r\n    <g id=\"ytick_8\">\r\n     <g id=\"line2d_24\">\r\n      <g>\r\n       <use style=\"stroke:#000000;stroke-width:0.8;\" x=\"30.103125\" xlink:href=\"#mb0c96f6d09\" y=\"240.737435\"/>\r\n      </g>\r\n     </g>\r\n     <g id=\"text_7\">\r\n      <!-- 0.4 -->\r\n      <g transform=\"translate(7.2 244.536654)scale(0.1 -0.1)\">\r\n       <use xlink:href=\"#DejaVuSans-48\"/>\r\n       <use x=\"63.623047\" xlink:href=\"#DejaVuSans-46\"/>\r\n       <use x=\"95.410156\" xlink:href=\"#DejaVuSans-52\"/>\r\n      </g>\r\n     </g>\r\n    </g>\r\n    <g id=\"ytick_9\">\r\n     <g id=\"line2d_25\">\r\n      <g>\r\n       <use style=\"stroke:#000000;stroke-width:0.8;\" x=\"30.103125\" xlink:href=\"#mb0c96f6d09\" y=\"203.363767\"/>\r\n      </g>\r\n     </g>\r\n     <g id=\"text_8\">\r\n      <!-- 0.6 -->\r\n      <g transform=\"translate(7.2 207.162986)scale(0.1 -0.1)\">\r\n       <use xlink:href=\"#DejaVuSans-48\"/>\r\n       <use x=\"63.623047\" xlink:href=\"#DejaVuSans-46\"/>\r\n       <use x=\"95.410156\" xlink:href=\"#DejaVuSans-54\"/>\r\n      </g>\r\n     </g>\r\n    </g>\r\n   </g>\r\n   <g id=\"line2d_26\">\r\n    <path clip-path=\"url(#pd771ce6d4c)\" d=\"M 39.326265 294.947002 \r\nL 100.813869 290.903112 \r\nL 162.301472 292.624003 \r\nL 223.789075 289.328869 \r\nL 39.326265 294.198901 \r\nL 100.813869 293.242024 \r\nL 162.301472 291.020935 \r\nL 223.789075 289.558163 \r\nL 39.326265 295.698711 \r\nL 100.813869 285.493556 \r\nL 162.301472 292.686019 \r\nL 223.789075 293.425686 \r\nL 39.326265 291.124047 \r\nL 100.813869 292.426467 \r\nL 162.301472 291.053221 \r\nL 223.789075 291.624212 \r\nL 39.326265 292.427241 \r\nL 100.813869 288.978623 \r\nL 162.301472 290.855128 \r\nL 223.789075 288.939345 \r\nL 39.326265 294.777399 \r\nL 100.813869 288.859299 \r\nL 162.301472 287.915923 \r\nL 223.789075 291.766567 \r\nL 39.326265 294.179975 \r\nL 100.813869 289.103358 \r\nL 162.301472 289.622659 \r\nL 223.789075 290.971136 \r\nL 39.326265 291.755458 \r\nL 100.813869 291.750152 \r\nL 162.301472 291.974221 \r\nL 223.789075 289.293775 \r\nL 39.326265 293.95339 \r\nL 100.813869 290.147751 \r\nL 162.301472 290.605959 \r\nL 223.789075 289.618966 \r\nL 39.326265 292.174791 \r\nL 100.813869 292.198996 \r\nL 162.301472 290.183128 \r\nL 223.789075 290.34291 \r\nL 39.326265 292.310969 \r\nL 100.813869 288.674103 \r\nL 162.301472 290.719087 \r\nL 223.789075 290.544896 \r\nL 39.326265 292.902494 \r\nL 100.813869 283.053076 \r\nL 162.301472 292.068836 \r\nL 223.789075 292.377396 \r\nL 39.326265 291.195804 \r\nL 100.813869 293.324102 \r\nL 162.301472 294.404021 \r\nL 223.789075 285.728666 \r\nL 39.326265 290.824726 \r\nL 100.813869 285.29207 \r\nL 162.301472 289.184782 \r\nL 223.789075 292.566956 \r\nL 39.326265 295.309605 \r\nL 100.813869 288.399104 \r\nL 162.301472 288.386512 \r\nL 223.789075 291.233816 \r\nL 39.326265 293.203172 \r\nL 100.813869 292.126228 \r\nL 162.301472 289.262478 \r\nL 223.789075 288.413301 \r\nL 39.326265 294.890232 \r\nL 100.813869 286.805462 \r\nL 162.301472 295.554779 \r\nL 223.789075 289.391951 \r\nL 39.326265 293.66389 \r\nL 100.813869 292.406307 \r\nL 162.301472 290.493573 \r\nL 223.789075 288.708859 \r\nL 39.326265 297.137698 \r\nL 100.813869 285.82313 \r\nL 162.301472 288.138185 \r\nL 223.789075 294.441039 \r\nL 39.326265 295.316162 \r\nL 100.813869 288.530114 \r\nL 162.301472 285.076678 \r\nL 223.789075 286.196356 \r\nL 39.326265 293.656845 \r\nL 100.813869 288.374338 \r\nL 162.301472 289.513239 \r\nL 223.789075 294.627029 \r\nL 39.326265 291.629238 \r\nL 100.813869 284.538422 \r\nL 162.301472 296.153563 \r\nL 223.789075 289.845843 \r\nL 39.326265 296.626498 \r\nL 100.813869 291.216155 \r\nL 162.301472 285.795408 \r\nL 223.789075 288.538239 \r\nL 39.326265 293.894405 \r\nL 100.813869 290.737342 \r\nL 162.301472 284.866141 \r\nL 223.789075 286.344411 \r\nL 39.326265 284.667887 \r\nL 100.813869 291.372727 \r\nL 162.301472 289.396009 \r\nL 223.789075 292.904846 \r\n\" style=\"fill:none;stroke:#1f77b4;stroke-linecap:square;stroke-width:1.5;\"/>\r\n   </g>\r\n   <g id=\"line2d_27\">\r\n    <path clip-path=\"url(#pd771ce6d4c)\" d=\"M 39.326265 293.298662 \r\nL 100.813869 289.351041 \r\nL 162.301472 290.30218 \r\nL 223.789075 290.269329 \r\n\" style=\"fill:none;stroke:#ff0000;stroke-linecap:square;stroke-width:1.5;\"/>\r\n   </g>\r\n   <g id=\"patch_13\">\r\n    <path d=\"M 30.103125 303.711066 \r\nL 30.103125 175.805184 \r\n\" style=\"fill:none;stroke:#000000;stroke-linecap:square;stroke-linejoin:miter;stroke-width:0.8;\"/>\r\n   </g>\r\n   <g id=\"patch_14\">\r\n    <path d=\"M 233.012216 303.711066 \r\nL 233.012216 175.805184 \r\n\" style=\"fill:none;stroke:#000000;stroke-linecap:square;stroke-linejoin:miter;stroke-width:0.8;\"/>\r\n   </g>\r\n   <g id=\"patch_15\">\r\n    <path d=\"M 30.103125 303.711066 \r\nL 233.012216 303.711066 \r\n\" style=\"fill:none;stroke:#000000;stroke-linecap:square;stroke-linejoin:miter;stroke-width:0.8;\"/>\r\n   </g>\r\n   <g id=\"patch_16\">\r\n    <path d=\"M 30.103125 175.805184 \r\nL 233.012216 175.805184 \r\n\" style=\"fill:none;stroke:#000000;stroke-linecap:square;stroke-linejoin:miter;stroke-width:0.8;\"/>\r\n   </g>\r\n   <g id=\"text_9\">\r\n    <!-- cluster: 0, sentiment: neutral -->\r\n    <g transform=\"translate(43.981108 169.805184)scale(0.12 -0.12)\">\r\n     <use xlink:href=\"#DejaVuSans-99\"/>\r\n     <use x=\"54.980469\" xlink:href=\"#DejaVuSans-108\"/>\r\n     <use x=\"82.763672\" xlink:href=\"#DejaVuSans-117\"/>\r\n     <use x=\"146.142578\" xlink:href=\"#DejaVuSans-115\"/>\r\n     <use x=\"198.242188\" xlink:href=\"#DejaVuSans-116\"/>\r\n     <use x=\"237.451172\" xlink:href=\"#DejaVuSans-101\"/>\r\n     <use x=\"298.974609\" xlink:href=\"#DejaVuSans-114\"/>\r\n     <use x=\"338.337891\" xlink:href=\"#DejaVuSans-58\"/>\r\n     <use x=\"372.029297\" xlink:href=\"#DejaVuSans-32\"/>\r\n     <use x=\"403.816406\" xlink:href=\"#DejaVuSans-48\"/>\r\n     <use x=\"467.439453\" xlink:href=\"#DejaVuSans-44\"/>\r\n     <use x=\"499.226562\" xlink:href=\"#DejaVuSans-32\"/>\r\n     <use x=\"531.013672\" xlink:href=\"#DejaVuSans-115\"/>\r\n     <use x=\"583.113281\" xlink:href=\"#DejaVuSans-101\"/>\r\n     <use x=\"644.636719\" xlink:href=\"#DejaVuSans-110\"/>\r\n     <use x=\"708.015625\" xlink:href=\"#DejaVuSans-116\"/>\r\n     <use x=\"747.224609\" xlink:href=\"#DejaVuSans-105\"/>\r\n     <use x=\"775.007812\" xlink:href=\"#DejaVuSans-109\"/>\r\n     <use x=\"872.419922\" xlink:href=\"#DejaVuSans-101\"/>\r\n     <use x=\"933.943359\" xlink:href=\"#DejaVuSans-110\"/>\r\n     <use x=\"997.322266\" xlink:href=\"#DejaVuSans-116\"/>\r\n     <use x=\"1036.53125\" xlink:href=\"#DejaVuSans-58\"/>\r\n     <use x=\"1070.222656\" xlink:href=\"#DejaVuSans-32\"/>\r\n     <use x=\"1102.009766\" xlink:href=\"#DejaVuSans-110\"/>\r\n     <use x=\"1165.388672\" xlink:href=\"#DejaVuSans-101\"/>\r\n     <use x=\"1226.912109\" xlink:href=\"#DejaVuSans-117\"/>\r\n     <use x=\"1290.291016\" xlink:href=\"#DejaVuSans-116\"/>\r\n     <use x=\"1329.5\" xlink:href=\"#DejaVuSans-114\"/>\r\n     <use x=\"1370.613281\" xlink:href=\"#DejaVuSans-97\"/>\r\n     <use x=\"1431.892578\" xlink:href=\"#DejaVuSans-108\"/>\r\n    </g>\r\n   </g>\r\n  </g>\r\n  <g id=\"axes_4\">\r\n   <g id=\"patch_17\">\r\n    <path d=\"M 273.594034 303.711066 \r\nL 476.503125 303.711066 \r\nL 476.503125 175.805184 \r\nL 273.594034 175.805184 \r\nz\r\n\" style=\"fill:#ffffff;\"/>\r\n   </g>\r\n   <g id=\"matplotlib.axis_7\">\r\n    <g id=\"xtick_13\">\r\n     <g id=\"line2d_28\">\r\n      <g>\r\n       <use style=\"stroke:#000000;stroke-width:0.8;\" x=\"282.817175\" xlink:href=\"#m5afeaa8609\" y=\"303.711066\"/>\r\n      </g>\r\n     </g>\r\n    </g>\r\n    <g id=\"xtick_14\">\r\n     <g id=\"line2d_29\">\r\n      <g>\r\n       <use style=\"stroke:#000000;stroke-width:0.8;\" x=\"344.304778\" xlink:href=\"#m5afeaa8609\" y=\"303.711066\"/>\r\n      </g>\r\n     </g>\r\n    </g>\r\n    <g id=\"xtick_15\">\r\n     <g id=\"line2d_30\">\r\n      <g>\r\n       <use style=\"stroke:#000000;stroke-width:0.8;\" x=\"405.792381\" xlink:href=\"#m5afeaa8609\" y=\"303.711066\"/>\r\n      </g>\r\n     </g>\r\n    </g>\r\n    <g id=\"xtick_16\">\r\n     <g id=\"line2d_31\">\r\n      <g>\r\n       <use style=\"stroke:#000000;stroke-width:0.8;\" x=\"467.279985\" xlink:href=\"#m5afeaa8609\" y=\"303.711066\"/>\r\n      </g>\r\n     </g>\r\n    </g>\r\n   </g>\r\n   <g id=\"matplotlib.axis_8\">\r\n    <g id=\"ytick_10\">\r\n     <g id=\"line2d_32\">\r\n      <g>\r\n       <use style=\"stroke:#000000;stroke-width:0.8;\" x=\"273.594034\" xlink:href=\"#mb0c96f6d09\" y=\"278.111103\"/>\r\n      </g>\r\n     </g>\r\n    </g>\r\n    <g id=\"ytick_11\">\r\n     <g id=\"line2d_33\">\r\n      <g>\r\n       <use style=\"stroke:#000000;stroke-width:0.8;\" x=\"273.594034\" xlink:href=\"#mb0c96f6d09\" y=\"240.737435\"/>\r\n      </g>\r\n     </g>\r\n    </g>\r\n    <g id=\"ytick_12\">\r\n     <g id=\"line2d_34\">\r\n      <g>\r\n       <use style=\"stroke:#000000;stroke-width:0.8;\" x=\"273.594034\" xlink:href=\"#mb0c96f6d09\" y=\"203.363767\"/>\r\n      </g>\r\n     </g>\r\n    </g>\r\n   </g>\r\n   <g id=\"line2d_35\">\r\n    <path clip-path=\"url(#pcd43e9cbeb)\" d=\"M 282.817175 294.102062 \r\nL 344.304778 289.055598 \r\nL 405.792381 289.39674 \r\nL 467.279985 289.442076 \r\nL 282.817175 293.232055 \r\nL 344.304778 290.337559 \r\nL 405.792381 289.74135 \r\nL 467.279985 290.823248 \r\nL 282.817175 292.252989 \r\nL 344.304778 288.041578 \r\nL 405.792381 288.814196 \r\nL 467.279985 290.129896 \r\nL 282.817175 291.586866 \r\nL 344.304778 291.951476 \r\nL 405.792381 290.849395 \r\nL 467.279985 288.626715 \r\nL 282.817175 292.723608 \r\nL 344.304778 289.934003 \r\nL 405.792381 290.923865 \r\nL 467.279985 290.882871 \r\nL 282.817175 292.557739 \r\nL 344.304778 290.582943 \r\nL 405.792381 291.460743 \r\nL 467.279985 290.80994 \r\nL 282.817175 293.225568 \r\nL 344.304778 292.082568 \r\nL 405.792381 290.038534 \r\nL 467.279985 290.242928 \r\nL 282.817175 292.471127 \r\nL 344.304778 288.544381 \r\nL 405.792381 290.510573 \r\nL 467.279985 289.568088 \r\nL 282.817175 293.425398 \r\nL 344.304778 289.621901 \r\nL 405.792381 289.530835 \r\nL 467.279985 288.117709 \r\nL 282.817175 294.761876 \r\nL 344.304778 288.174191 \r\nL 405.792381 290.917686 \r\nL 467.279985 291.249639 \r\nL 282.817175 293.470145 \r\nL 344.304778 293.013262 \r\nL 405.792381 290.841509 \r\nL 467.279985 290.5975 \r\nL 282.817175 291.240026 \r\nL 344.304778 289.457725 \r\nL 405.792381 288.983443 \r\nL 467.279985 290.850754 \r\nL 282.817175 288.642436 \r\nL 344.304778 290.568992 \r\nL 405.792381 289.090938 \r\nL 467.279985 291.502938 \r\nL 282.817175 291.463675 \r\nL 344.304778 288.914772 \r\nL 405.792381 287.922558 \r\nL 467.279985 287.742686 \r\nL 282.817175 291.971536 \r\nL 344.304778 297.897162 \r\nL 405.792381 289.421555 \r\nL 467.279985 293.113209 \r\nL 282.817175 295.027353 \r\nL 344.304778 290.002725 \r\nL 405.792381 291.614727 \r\nL 467.279985 290.035775 \r\nL 282.817175 294.872862 \r\nL 344.304778 294.658223 \r\nL 405.792381 288.40484 \r\nL 467.279985 288.098894 \r\nL 282.817175 289.724883 \r\nL 344.304778 294.195973 \r\nL 405.792381 288.593961 \r\nL 467.279985 289.72234 \r\nL 282.817175 289.906638 \r\nL 344.304778 288.842156 \r\nL 405.792381 292.008849 \r\nL 467.279985 288.38069 \r\n\" style=\"fill:none;stroke:#1f77b4;stroke-linecap:square;stroke-width:1.5;\"/>\r\n   </g>\r\n   <g id=\"line2d_36\">\r\n    <path clip-path=\"url(#pcd43e9cbeb)\" d=\"M 282.817175 292.455729 \r\nL 344.304778 290.835641 \r\nL 405.792381 289.950858 \r\nL 467.279985 289.996731 \r\n\" style=\"fill:none;stroke:#ff0000;stroke-linecap:square;stroke-width:1.5;\"/>\r\n   </g>\r\n   <g id=\"patch_18\">\r\n    <path d=\"M 273.594034 303.711066 \r\nL 273.594034 175.805184 \r\n\" style=\"fill:none;stroke:#000000;stroke-linecap:square;stroke-linejoin:miter;stroke-width:0.8;\"/>\r\n   </g>\r\n   <g id=\"patch_19\">\r\n    <path d=\"M 476.503125 303.711066 \r\nL 476.503125 175.805184 \r\n\" style=\"fill:none;stroke:#000000;stroke-linecap:square;stroke-linejoin:miter;stroke-width:0.8;\"/>\r\n   </g>\r\n   <g id=\"patch_20\">\r\n    <path d=\"M 273.594034 303.711066 \r\nL 476.503125 303.711066 \r\n\" style=\"fill:none;stroke:#000000;stroke-linecap:square;stroke-linejoin:miter;stroke-width:0.8;\"/>\r\n   </g>\r\n   <g id=\"patch_21\">\r\n    <path d=\"M 273.594034 175.805184 \r\nL 476.503125 175.805184 \r\n\" style=\"fill:none;stroke:#000000;stroke-linecap:square;stroke-linejoin:miter;stroke-width:0.8;\"/>\r\n   </g>\r\n   <g id=\"text_10\">\r\n    <!-- cluster: 1, sentiment: neutral -->\r\n    <g transform=\"translate(287.472017 169.805184)scale(0.12 -0.12)\">\r\n     <use xlink:href=\"#DejaVuSans-99\"/>\r\n     <use x=\"54.980469\" xlink:href=\"#DejaVuSans-108\"/>\r\n     <use x=\"82.763672\" xlink:href=\"#DejaVuSans-117\"/>\r\n     <use x=\"146.142578\" xlink:href=\"#DejaVuSans-115\"/>\r\n     <use x=\"198.242188\" xlink:href=\"#DejaVuSans-116\"/>\r\n     <use x=\"237.451172\" xlink:href=\"#DejaVuSans-101\"/>\r\n     <use x=\"298.974609\" xlink:href=\"#DejaVuSans-114\"/>\r\n     <use x=\"338.337891\" xlink:href=\"#DejaVuSans-58\"/>\r\n     <use x=\"372.029297\" xlink:href=\"#DejaVuSans-32\"/>\r\n     <use x=\"403.816406\" xlink:href=\"#DejaVuSans-49\"/>\r\n     <use x=\"467.439453\" xlink:href=\"#DejaVuSans-44\"/>\r\n     <use x=\"499.226562\" xlink:href=\"#DejaVuSans-32\"/>\r\n     <use x=\"531.013672\" xlink:href=\"#DejaVuSans-115\"/>\r\n     <use x=\"583.113281\" xlink:href=\"#DejaVuSans-101\"/>\r\n     <use x=\"644.636719\" xlink:href=\"#DejaVuSans-110\"/>\r\n     <use x=\"708.015625\" xlink:href=\"#DejaVuSans-116\"/>\r\n     <use x=\"747.224609\" xlink:href=\"#DejaVuSans-105\"/>\r\n     <use x=\"775.007812\" xlink:href=\"#DejaVuSans-109\"/>\r\n     <use x=\"872.419922\" xlink:href=\"#DejaVuSans-101\"/>\r\n     <use x=\"933.943359\" xlink:href=\"#DejaVuSans-110\"/>\r\n     <use x=\"997.322266\" xlink:href=\"#DejaVuSans-116\"/>\r\n     <use x=\"1036.53125\" xlink:href=\"#DejaVuSans-58\"/>\r\n     <use x=\"1070.222656\" xlink:href=\"#DejaVuSans-32\"/>\r\n     <use x=\"1102.009766\" xlink:href=\"#DejaVuSans-110\"/>\r\n     <use x=\"1165.388672\" xlink:href=\"#DejaVuSans-101\"/>\r\n     <use x=\"1226.912109\" xlink:href=\"#DejaVuSans-117\"/>\r\n     <use x=\"1290.291016\" xlink:href=\"#DejaVuSans-116\"/>\r\n     <use x=\"1329.5\" xlink:href=\"#DejaVuSans-114\"/>\r\n     <use x=\"1370.613281\" xlink:href=\"#DejaVuSans-97\"/>\r\n     <use x=\"1431.892578\" xlink:href=\"#DejaVuSans-108\"/>\r\n    </g>\r\n   </g>\r\n  </g>\r\n  <g id=\"axes_5\">\r\n   <g id=\"patch_22\">\r\n    <path d=\"M 30.103125 457.198125 \r\nL 233.012216 457.198125 \r\nL 233.012216 329.292243 \r\nL 30.103125 329.292243 \r\nz\r\n\" style=\"fill:#ffffff;\"/>\r\n   </g>\r\n   <g id=\"matplotlib.axis_9\">\r\n    <g id=\"xtick_17\">\r\n     <g id=\"line2d_37\">\r\n      <g>\r\n       <use style=\"stroke:#000000;stroke-width:0.8;\" x=\"39.326265\" xlink:href=\"#m5afeaa8609\" y=\"457.198125\"/>\r\n      </g>\r\n     </g>\r\n     <g id=\"text_11\">\r\n      <!-- 1 -->\r\n      <g transform=\"translate(36.145015 471.796562)scale(0.1 -0.1)\">\r\n       <use xlink:href=\"#DejaVuSans-49\"/>\r\n      </g>\r\n     </g>\r\n    </g>\r\n    <g id=\"xtick_18\">\r\n     <g id=\"line2d_38\">\r\n      <g>\r\n       <use style=\"stroke:#000000;stroke-width:0.8;\" x=\"100.813869\" xlink:href=\"#m5afeaa8609\" y=\"457.198125\"/>\r\n      </g>\r\n     </g>\r\n     <g id=\"text_12\">\r\n      <!-- 2 -->\r\n      <g transform=\"translate(97.632619 471.796562)scale(0.1 -0.1)\">\r\n       <use xlink:href=\"#DejaVuSans-50\"/>\r\n      </g>\r\n     </g>\r\n    </g>\r\n    <g id=\"xtick_19\">\r\n     <g id=\"line2d_39\">\r\n      <g>\r\n       <use style=\"stroke:#000000;stroke-width:0.8;\" x=\"162.301472\" xlink:href=\"#m5afeaa8609\" y=\"457.198125\"/>\r\n      </g>\r\n     </g>\r\n     <g id=\"text_13\">\r\n      <!-- 3 -->\r\n      <defs>\r\n       <path d=\"M 40.578125 39.3125 \r\nQ 47.65625 37.796875 51.625 33 \r\nQ 55.609375 28.21875 55.609375 21.1875 \r\nQ 55.609375 10.40625 48.1875 4.484375 \r\nQ 40.765625 -1.421875 27.09375 -1.421875 \r\nQ 22.515625 -1.421875 17.65625 -0.515625 \r\nQ 12.796875 0.390625 7.625 2.203125 \r\nL 7.625 11.71875 \r\nQ 11.71875 9.328125 16.59375 8.109375 \r\nQ 21.484375 6.890625 26.8125 6.890625 \r\nQ 36.078125 6.890625 40.9375 10.546875 \r\nQ 45.796875 14.203125 45.796875 21.1875 \r\nQ 45.796875 27.640625 41.28125 31.265625 \r\nQ 36.765625 34.90625 28.71875 34.90625 \r\nL 20.21875 34.90625 \r\nL 20.21875 43.015625 \r\nL 29.109375 43.015625 \r\nQ 36.375 43.015625 40.234375 45.921875 \r\nQ 44.09375 48.828125 44.09375 54.296875 \r\nQ 44.09375 59.90625 40.109375 62.90625 \r\nQ 36.140625 65.921875 28.71875 65.921875 \r\nQ 24.65625 65.921875 20.015625 65.03125 \r\nQ 15.375 64.15625 9.8125 62.3125 \r\nL 9.8125 71.09375 \r\nQ 15.4375 72.65625 20.34375 73.4375 \r\nQ 25.25 74.21875 29.59375 74.21875 \r\nQ 40.828125 74.21875 47.359375 69.109375 \r\nQ 53.90625 64.015625 53.90625 55.328125 \r\nQ 53.90625 49.265625 50.4375 45.09375 \r\nQ 46.96875 40.921875 40.578125 39.3125 \r\nz\r\n\" id=\"DejaVuSans-51\"/>\r\n      </defs>\r\n      <g transform=\"translate(159.120222 471.796562)scale(0.1 -0.1)\">\r\n       <use xlink:href=\"#DejaVuSans-51\"/>\r\n      </g>\r\n     </g>\r\n    </g>\r\n    <g id=\"xtick_20\">\r\n     <g id=\"line2d_40\">\r\n      <g>\r\n       <use style=\"stroke:#000000;stroke-width:0.8;\" x=\"223.789075\" xlink:href=\"#m5afeaa8609\" y=\"457.198125\"/>\r\n      </g>\r\n     </g>\r\n     <g id=\"text_14\">\r\n      <!-- 4 -->\r\n      <g transform=\"translate(220.607825 471.796562)scale(0.1 -0.1)\">\r\n       <use xlink:href=\"#DejaVuSans-52\"/>\r\n      </g>\r\n     </g>\r\n    </g>\r\n   </g>\r\n   <g id=\"matplotlib.axis_10\">\r\n    <g id=\"ytick_13\">\r\n     <g id=\"line2d_41\">\r\n      <g>\r\n       <use style=\"stroke:#000000;stroke-width:0.8;\" x=\"30.103125\" xlink:href=\"#mb0c96f6d09\" y=\"431.598162\"/>\r\n      </g>\r\n     </g>\r\n     <g id=\"text_15\">\r\n      <!-- 0.2 -->\r\n      <g transform=\"translate(7.2 435.397381)scale(0.1 -0.1)\">\r\n       <use xlink:href=\"#DejaVuSans-48\"/>\r\n       <use x=\"63.623047\" xlink:href=\"#DejaVuSans-46\"/>\r\n       <use x=\"95.410156\" xlink:href=\"#DejaVuSans-50\"/>\r\n      </g>\r\n     </g>\r\n    </g>\r\n    <g id=\"ytick_14\">\r\n     <g id=\"line2d_42\">\r\n      <g>\r\n       <use style=\"stroke:#000000;stroke-width:0.8;\" x=\"30.103125\" xlink:href=\"#mb0c96f6d09\" y=\"394.224494\"/>\r\n      </g>\r\n     </g>\r\n     <g id=\"text_16\">\r\n      <!-- 0.4 -->\r\n      <g transform=\"translate(7.2 398.023713)scale(0.1 -0.1)\">\r\n       <use xlink:href=\"#DejaVuSans-48\"/>\r\n       <use x=\"63.623047\" xlink:href=\"#DejaVuSans-46\"/>\r\n       <use x=\"95.410156\" xlink:href=\"#DejaVuSans-52\"/>\r\n      </g>\r\n     </g>\r\n    </g>\r\n    <g id=\"ytick_15\">\r\n     <g id=\"line2d_43\">\r\n      <g>\r\n       <use style=\"stroke:#000000;stroke-width:0.8;\" x=\"30.103125\" xlink:href=\"#mb0c96f6d09\" y=\"356.850826\"/>\r\n      </g>\r\n     </g>\r\n     <g id=\"text_17\">\r\n      <!-- 0.6 -->\r\n      <g transform=\"translate(7.2 360.650045)scale(0.1 -0.1)\">\r\n       <use xlink:href=\"#DejaVuSans-48\"/>\r\n       <use x=\"63.623047\" xlink:href=\"#DejaVuSans-46\"/>\r\n       <use x=\"95.410156\" xlink:href=\"#DejaVuSans-54\"/>\r\n      </g>\r\n     </g>\r\n    </g>\r\n   </g>\r\n   <g id=\"line2d_44\">\r\n    <path clip-path=\"url(#paf2f5b224a)\" d=\"M 39.326265 435.62965 \r\nL 100.813869 415.035374 \r\nL 162.301472 406.731546 \r\nL 223.789075 414.771513 \r\nL 39.326265 430.564717 \r\nL 100.813869 417.608645 \r\nL 162.301472 407.861363 \r\nL 223.789075 417.29223 \r\nL 39.326265 430.279091 \r\nL 100.813869 413.603433 \r\nL 162.301472 396.504369 \r\nL 223.789075 407.612076 \r\nL 39.326265 427.651108 \r\nL 100.813869 419.972933 \r\nL 162.301472 408.883424 \r\nL 223.789075 407.312365 \r\nL 39.326265 431.706526 \r\nL 100.813869 414.838121 \r\nL 162.301472 406.440269 \r\nL 223.789075 408.623955 \r\nL 39.326265 432.702555 \r\nL 100.813869 414.087422 \r\nL 162.301472 404.83677 \r\nL 223.789075 410.337319 \r\nL 39.326265 435.750792 \r\nL 100.813869 413.382424 \r\nL 162.301472 405.191585 \r\nL 223.789075 408.008601 \r\nL 39.326265 431.682909 \r\nL 100.813869 409.468137 \r\nL 162.301472 408.979391 \r\nL 223.789075 413.79417 \r\nL 39.326265 430.080068 \r\nL 100.813869 415.670248 \r\nL 162.301472 403.540186 \r\nL 223.789075 411.378739 \r\nL 39.326265 436.726357 \r\nL 100.813869 415.705621 \r\nL 162.301472 404.642817 \r\nL 223.789075 412.490348 \r\nL 39.326265 432.378504 \r\nL 100.813869 410.714063 \r\nL 162.301472 404.897469 \r\nL 223.789075 411.019753 \r\nL 39.326265 424.371833 \r\nL 100.813869 413.374638 \r\nL 162.301472 407.906746 \r\nL 223.789075 417.733737 \r\nL 39.326265 435.67244 \r\nL 100.813869 414.468564 \r\nL 162.301472 392.152149 \r\nL 223.789075 412.078157 \r\nL 39.326265 424.583749 \r\nL 100.813869 420.826712 \r\nL 162.301472 405.298173 \r\nL 223.789075 409.032928 \r\nL 39.326265 433.086494 \r\nL 100.813869 410.475894 \r\nL 162.301472 403.497424 \r\nL 223.789075 409.137698 \r\nL 39.326265 432.430008 \r\nL 100.813869 408.321579 \r\nL 162.301472 405.210254 \r\nL 223.789075 415.580876 \r\nL 39.326265 431.034522 \r\nL 100.813869 412.820762 \r\nL 162.301472 398.920868 \r\nL 223.789075 410.067679 \r\nL 39.326265 427.308164 \r\nL 100.813869 408.923011 \r\nL 162.301472 402.842858 \r\nL 223.789075 411.728934 \r\nL 39.326265 434.316247 \r\nL 100.813869 421.513204 \r\nL 162.301472 407.442011 \r\nL 223.789075 413.416377 \r\nL 39.326265 433.573862 \r\nL 100.813869 413.50744 \r\nL 162.301472 404.619819 \r\nL 223.789075 406.544879 \r\nL 39.326265 425.848367 \r\nL 100.813869 409.909816 \r\nL 162.301472 398.025206 \r\nL 223.789075 413.209296 \r\nL 39.326265 433.188531 \r\nL 100.813869 417.791329 \r\nL 162.301472 409.045086 \r\nL 223.789075 410.791186 \r\nL 39.326265 431.255284 \r\nL 100.813869 407.08686 \r\nL 162.301472 399.987723 \r\nL 223.789075 410.392413 \r\nL 39.326265 430.630318 \r\nL 100.813869 417.961823 \r\nL 162.301472 407.418914 \r\nL 223.789075 407.915838 \r\nL 39.326265 441.433338 \r\nL 100.813869 403.869311 \r\nL 162.301472 399.19956 \r\nL 223.789075 415.636491 \r\n\" style=\"fill:none;stroke:#1f77b4;stroke-linecap:square;stroke-width:1.5;\"/>\r\n   </g>\r\n   <g id=\"line2d_45\">\r\n    <path clip-path=\"url(#paf2f5b224a)\" d=\"M 39.326265 431.755417 \r\nL 100.813869 413.637494 \r\nL 162.301472 404.003039 \r\nL 223.789075 411.436302 \r\n\" style=\"fill:none;stroke:#ff0000;stroke-linecap:square;stroke-width:1.5;\"/>\r\n   </g>\r\n   <g id=\"patch_23\">\r\n    <path d=\"M 30.103125 457.198125 \r\nL 30.103125 329.292243 \r\n\" style=\"fill:none;stroke:#000000;stroke-linecap:square;stroke-linejoin:miter;stroke-width:0.8;\"/>\r\n   </g>\r\n   <g id=\"patch_24\">\r\n    <path d=\"M 233.012216 457.198125 \r\nL 233.012216 329.292243 \r\n\" style=\"fill:none;stroke:#000000;stroke-linecap:square;stroke-linejoin:miter;stroke-width:0.8;\"/>\r\n   </g>\r\n   <g id=\"patch_25\">\r\n    <path d=\"M 30.103125 457.198125 \r\nL 233.012216 457.198125 \r\n\" style=\"fill:none;stroke:#000000;stroke-linecap:square;stroke-linejoin:miter;stroke-width:0.8;\"/>\r\n   </g>\r\n   <g id=\"patch_26\">\r\n    <path d=\"M 30.103125 329.292243 \r\nL 233.012216 329.292243 \r\n\" style=\"fill:none;stroke:#000000;stroke-linecap:square;stroke-linejoin:miter;stroke-width:0.8;\"/>\r\n   </g>\r\n   <g id=\"text_18\">\r\n    <!-- cluster: 0, sentiment: positive -->\r\n    <defs>\r\n     <path d=\"M 18.109375 8.203125 \r\nL 18.109375 -20.796875 \r\nL 9.078125 -20.796875 \r\nL 9.078125 54.6875 \r\nL 18.109375 54.6875 \r\nL 18.109375 46.390625 \r\nQ 20.953125 51.265625 25.265625 53.625 \r\nQ 29.59375 56 35.59375 56 \r\nQ 45.5625 56 51.78125 48.09375 \r\nQ 58.015625 40.1875 58.015625 27.296875 \r\nQ 58.015625 14.40625 51.78125 6.484375 \r\nQ 45.5625 -1.421875 35.59375 -1.421875 \r\nQ 29.59375 -1.421875 25.265625 0.953125 \r\nQ 20.953125 3.328125 18.109375 8.203125 \r\nz\r\nM 48.6875 27.296875 \r\nQ 48.6875 37.203125 44.609375 42.84375 \r\nQ 40.53125 48.484375 33.40625 48.484375 \r\nQ 26.265625 48.484375 22.1875 42.84375 \r\nQ 18.109375 37.203125 18.109375 27.296875 \r\nQ 18.109375 17.390625 22.1875 11.75 \r\nQ 26.265625 6.109375 33.40625 6.109375 \r\nQ 40.53125 6.109375 44.609375 11.75 \r\nQ 48.6875 17.390625 48.6875 27.296875 \r\nz\r\n\" id=\"DejaVuSans-112\"/>\r\n     <path d=\"M 30.609375 48.390625 \r\nQ 23.390625 48.390625 19.1875 42.75 \r\nQ 14.984375 37.109375 14.984375 27.296875 \r\nQ 14.984375 17.484375 19.15625 11.84375 \r\nQ 23.34375 6.203125 30.609375 6.203125 \r\nQ 37.796875 6.203125 41.984375 11.859375 \r\nQ 46.1875 17.53125 46.1875 27.296875 \r\nQ 46.1875 37.015625 41.984375 42.703125 \r\nQ 37.796875 48.390625 30.609375 48.390625 \r\nz\r\nM 30.609375 56 \r\nQ 42.328125 56 49.015625 48.375 \r\nQ 55.71875 40.765625 55.71875 27.296875 \r\nQ 55.71875 13.875 49.015625 6.21875 \r\nQ 42.328125 -1.421875 30.609375 -1.421875 \r\nQ 18.84375 -1.421875 12.171875 6.21875 \r\nQ 5.515625 13.875 5.515625 27.296875 \r\nQ 5.515625 40.765625 12.171875 48.375 \r\nQ 18.84375 56 30.609375 56 \r\nz\r\n\" id=\"DejaVuSans-111\"/>\r\n    </defs>\r\n    <g transform=\"translate(41.905483 323.292243)scale(0.12 -0.12)\">\r\n     <use xlink:href=\"#DejaVuSans-99\"/>\r\n     <use x=\"54.980469\" xlink:href=\"#DejaVuSans-108\"/>\r\n     <use x=\"82.763672\" xlink:href=\"#DejaVuSans-117\"/>\r\n     <use x=\"146.142578\" xlink:href=\"#DejaVuSans-115\"/>\r\n     <use x=\"198.242188\" xlink:href=\"#DejaVuSans-116\"/>\r\n     <use x=\"237.451172\" xlink:href=\"#DejaVuSans-101\"/>\r\n     <use x=\"298.974609\" xlink:href=\"#DejaVuSans-114\"/>\r\n     <use x=\"338.337891\" xlink:href=\"#DejaVuSans-58\"/>\r\n     <use x=\"372.029297\" xlink:href=\"#DejaVuSans-32\"/>\r\n     <use x=\"403.816406\" xlink:href=\"#DejaVuSans-48\"/>\r\n     <use x=\"467.439453\" xlink:href=\"#DejaVuSans-44\"/>\r\n     <use x=\"499.226562\" xlink:href=\"#DejaVuSans-32\"/>\r\n     <use x=\"531.013672\" xlink:href=\"#DejaVuSans-115\"/>\r\n     <use x=\"583.113281\" xlink:href=\"#DejaVuSans-101\"/>\r\n     <use x=\"644.636719\" xlink:href=\"#DejaVuSans-110\"/>\r\n     <use x=\"708.015625\" xlink:href=\"#DejaVuSans-116\"/>\r\n     <use x=\"747.224609\" xlink:href=\"#DejaVuSans-105\"/>\r\n     <use x=\"775.007812\" xlink:href=\"#DejaVuSans-109\"/>\r\n     <use x=\"872.419922\" xlink:href=\"#DejaVuSans-101\"/>\r\n     <use x=\"933.943359\" xlink:href=\"#DejaVuSans-110\"/>\r\n     <use x=\"997.322266\" xlink:href=\"#DejaVuSans-116\"/>\r\n     <use x=\"1036.53125\" xlink:href=\"#DejaVuSans-58\"/>\r\n     <use x=\"1070.222656\" xlink:href=\"#DejaVuSans-32\"/>\r\n     <use x=\"1102.009766\" xlink:href=\"#DejaVuSans-112\"/>\r\n     <use x=\"1165.486328\" xlink:href=\"#DejaVuSans-111\"/>\r\n     <use x=\"1226.667969\" xlink:href=\"#DejaVuSans-115\"/>\r\n     <use x=\"1278.767578\" xlink:href=\"#DejaVuSans-105\"/>\r\n     <use x=\"1306.550781\" xlink:href=\"#DejaVuSans-116\"/>\r\n     <use x=\"1345.759766\" xlink:href=\"#DejaVuSans-105\"/>\r\n     <use x=\"1373.542969\" xlink:href=\"#DejaVuSans-118\"/>\r\n     <use x=\"1432.722656\" xlink:href=\"#DejaVuSans-101\"/>\r\n    </g>\r\n   </g>\r\n  </g>\r\n  <g id=\"axes_6\">\r\n   <g id=\"patch_27\">\r\n    <path d=\"M 273.594034 457.198125 \r\nL 476.503125 457.198125 \r\nL 476.503125 329.292243 \r\nL 273.594034 329.292243 \r\nz\r\n\" style=\"fill:#ffffff;\"/>\r\n   </g>\r\n   <g id=\"matplotlib.axis_11\">\r\n    <g id=\"xtick_21\">\r\n     <g id=\"line2d_46\">\r\n      <g>\r\n       <use style=\"stroke:#000000;stroke-width:0.8;\" x=\"282.817175\" xlink:href=\"#m5afeaa8609\" y=\"457.198125\"/>\r\n      </g>\r\n     </g>\r\n     <g id=\"text_19\">\r\n      <!-- 1 -->\r\n      <g transform=\"translate(279.635925 471.796562)scale(0.1 -0.1)\">\r\n       <use xlink:href=\"#DejaVuSans-49\"/>\r\n      </g>\r\n     </g>\r\n    </g>\r\n    <g id=\"xtick_22\">\r\n     <g id=\"line2d_47\">\r\n      <g>\r\n       <use style=\"stroke:#000000;stroke-width:0.8;\" x=\"344.304778\" xlink:href=\"#m5afeaa8609\" y=\"457.198125\"/>\r\n      </g>\r\n     </g>\r\n     <g id=\"text_20\">\r\n      <!-- 2 -->\r\n      <g transform=\"translate(341.123528 471.796562)scale(0.1 -0.1)\">\r\n       <use xlink:href=\"#DejaVuSans-50\"/>\r\n      </g>\r\n     </g>\r\n    </g>\r\n    <g id=\"xtick_23\">\r\n     <g id=\"line2d_48\">\r\n      <g>\r\n       <use style=\"stroke:#000000;stroke-width:0.8;\" x=\"405.792381\" xlink:href=\"#m5afeaa8609\" y=\"457.198125\"/>\r\n      </g>\r\n     </g>\r\n     <g id=\"text_21\">\r\n      <!-- 3 -->\r\n      <g transform=\"translate(402.611131 471.796562)scale(0.1 -0.1)\">\r\n       <use xlink:href=\"#DejaVuSans-51\"/>\r\n      </g>\r\n     </g>\r\n    </g>\r\n    <g id=\"xtick_24\">\r\n     <g id=\"line2d_49\">\r\n      <g>\r\n       <use style=\"stroke:#000000;stroke-width:0.8;\" x=\"467.279985\" xlink:href=\"#m5afeaa8609\" y=\"457.198125\"/>\r\n      </g>\r\n     </g>\r\n     <g id=\"text_22\">\r\n      <!-- 4 -->\r\n      <g transform=\"translate(464.098735 471.796562)scale(0.1 -0.1)\">\r\n       <use xlink:href=\"#DejaVuSans-52\"/>\r\n      </g>\r\n     </g>\r\n    </g>\r\n   </g>\r\n   <g id=\"matplotlib.axis_12\">\r\n    <g id=\"ytick_16\">\r\n     <g id=\"line2d_50\">\r\n      <g>\r\n       <use style=\"stroke:#000000;stroke-width:0.8;\" x=\"273.594034\" xlink:href=\"#mb0c96f6d09\" y=\"431.598162\"/>\r\n      </g>\r\n     </g>\r\n    </g>\r\n    <g id=\"ytick_17\">\r\n     <g id=\"line2d_51\">\r\n      <g>\r\n       <use style=\"stroke:#000000;stroke-width:0.8;\" x=\"273.594034\" xlink:href=\"#mb0c96f6d09\" y=\"394.224494\"/>\r\n      </g>\r\n     </g>\r\n    </g>\r\n    <g id=\"ytick_18\">\r\n     <g id=\"line2d_52\">\r\n      <g>\r\n       <use style=\"stroke:#000000;stroke-width:0.8;\" x=\"273.594034\" xlink:href=\"#mb0c96f6d09\" y=\"356.850826\"/>\r\n      </g>\r\n     </g>\r\n    </g>\r\n   </g>\r\n   <g id=\"line2d_53\">\r\n    <path clip-path=\"url(#p124c268f8f)\" d=\"M 282.817175 425.686611 \r\nL 344.304778 410.148278 \r\nL 405.792381 401.237997 \r\nL 467.279985 402.101871 \r\nL 282.817175 428.350852 \r\nL 344.304778 411.882578 \r\nL 405.792381 401.575966 \r\nL 467.279985 407.169817 \r\nL 282.817175 427.855264 \r\nL 344.304778 413.661065 \r\nL 405.792381 405.520267 \r\nL 467.279985 405.438926 \r\nL 282.817175 427.316454 \r\nL 344.304778 409.789089 \r\nL 405.792381 398.370447 \r\nL 467.279985 405.240849 \r\nL 282.817175 423.692505 \r\nL 344.304778 409.857331 \r\nL 405.792381 399.117998 \r\nL 467.279985 401.53212 \r\nL 282.817175 427.677118 \r\nL 344.304778 409.332998 \r\nL 405.792381 402.889116 \r\nL 467.279985 406.994723 \r\nL 282.817175 427.644429 \r\nL 344.304778 408.661674 \r\nL 405.792381 406.262218 \r\nL 467.279985 406.401294 \r\nL 282.817175 430.200175 \r\nL 344.304778 412.781874 \r\nL 405.792381 403.664059 \r\nL 467.279985 406.078589 \r\nL 282.817175 426.549959 \r\nL 344.304778 407.77518 \r\nL 405.792381 405.030769 \r\nL 467.279985 405.339214 \r\nL 282.817175 426.873921 \r\nL 344.304778 413.120463 \r\nL 405.792381 401.134977 \r\nL 467.279985 406.837075 \r\nL 282.817175 430.83021 \r\nL 344.304778 406.091028 \r\nL 405.792381 403.918289 \r\nL 467.279985 407.052984 \r\nL 282.817175 429.760113 \r\nL 344.304778 408.437015 \r\nL 405.792381 405.776355 \r\nL 467.279985 404.247158 \r\nL 282.817175 427.737434 \r\nL 344.304778 406.484639 \r\nL 405.792381 406.682383 \r\nL 467.279985 403.674761 \r\nL 282.817175 421.719063 \r\nL 344.304778 409.463816 \r\nL 405.792381 394.259163 \r\nL 467.279985 400.007351 \r\nL 282.817175 424.83295 \r\nL 344.304778 410.346468 \r\nL 405.792381 400.617358 \r\nL 467.279985 400.870164 \r\nL 282.817175 425.783948 \r\nL 344.304778 413.953775 \r\nL 405.792381 400.089704 \r\nL 467.279985 405.712898 \r\nL 282.817175 428.331369 \r\nL 344.304778 402.783349 \r\nL 405.792381 402.197094 \r\nL 467.279985 406.605672 \r\nL 282.817175 427.057436 \r\nL 344.304778 403.528487 \r\nL 405.792381 397.870705 \r\nL 467.279985 395.675898 \r\nL 282.817175 426.271146 \r\nL 344.304778 407.175765 \r\nL 405.792381 400.656896 \r\nL 467.279985 404.139957 \r\n\" style=\"fill:none;stroke:#1f77b4;stroke-linecap:square;stroke-width:1.5;\"/>\r\n   </g>\r\n   <g id=\"line2d_54\">\r\n    <path clip-path=\"url(#p124c268f8f)\" d=\"M 282.817175 427.061629 \r\nL 344.304778 409.224993 \r\nL 405.792381 401.940619 \r\nL 467.279985 404.269543 \r\n\" style=\"fill:none;stroke:#ff0000;stroke-linecap:square;stroke-width:1.5;\"/>\r\n   </g>\r\n   <g id=\"patch_28\">\r\n    <path d=\"M 273.594034 457.198125 \r\nL 273.594034 329.292243 \r\n\" style=\"fill:none;stroke:#000000;stroke-linecap:square;stroke-linejoin:miter;stroke-width:0.8;\"/>\r\n   </g>\r\n   <g id=\"patch_29\">\r\n    <path d=\"M 476.503125 457.198125 \r\nL 476.503125 329.292243 \r\n\" style=\"fill:none;stroke:#000000;stroke-linecap:square;stroke-linejoin:miter;stroke-width:0.8;\"/>\r\n   </g>\r\n   <g id=\"patch_30\">\r\n    <path d=\"M 273.594034 457.198125 \r\nL 476.503125 457.198125 \r\n\" style=\"fill:none;stroke:#000000;stroke-linecap:square;stroke-linejoin:miter;stroke-width:0.8;\"/>\r\n   </g>\r\n   <g id=\"patch_31\">\r\n    <path d=\"M 273.594034 329.292243 \r\nL 476.503125 329.292243 \r\n\" style=\"fill:none;stroke:#000000;stroke-linecap:square;stroke-linejoin:miter;stroke-width:0.8;\"/>\r\n   </g>\r\n   <g id=\"text_23\">\r\n    <!-- cluster: 1, sentiment: positive -->\r\n    <g transform=\"translate(285.396392 323.292243)scale(0.12 -0.12)\">\r\n     <use xlink:href=\"#DejaVuSans-99\"/>\r\n     <use x=\"54.980469\" xlink:href=\"#DejaVuSans-108\"/>\r\n     <use x=\"82.763672\" xlink:href=\"#DejaVuSans-117\"/>\r\n     <use x=\"146.142578\" xlink:href=\"#DejaVuSans-115\"/>\r\n     <use x=\"198.242188\" xlink:href=\"#DejaVuSans-116\"/>\r\n     <use x=\"237.451172\" xlink:href=\"#DejaVuSans-101\"/>\r\n     <use x=\"298.974609\" xlink:href=\"#DejaVuSans-114\"/>\r\n     <use x=\"338.337891\" xlink:href=\"#DejaVuSans-58\"/>\r\n     <use x=\"372.029297\" xlink:href=\"#DejaVuSans-32\"/>\r\n     <use x=\"403.816406\" xlink:href=\"#DejaVuSans-49\"/>\r\n     <use x=\"467.439453\" xlink:href=\"#DejaVuSans-44\"/>\r\n     <use x=\"499.226562\" xlink:href=\"#DejaVuSans-32\"/>\r\n     <use x=\"531.013672\" xlink:href=\"#DejaVuSans-115\"/>\r\n     <use x=\"583.113281\" xlink:href=\"#DejaVuSans-101\"/>\r\n     <use x=\"644.636719\" xlink:href=\"#DejaVuSans-110\"/>\r\n     <use x=\"708.015625\" xlink:href=\"#DejaVuSans-116\"/>\r\n     <use x=\"747.224609\" xlink:href=\"#DejaVuSans-105\"/>\r\n     <use x=\"775.007812\" xlink:href=\"#DejaVuSans-109\"/>\r\n     <use x=\"872.419922\" xlink:href=\"#DejaVuSans-101\"/>\r\n     <use x=\"933.943359\" xlink:href=\"#DejaVuSans-110\"/>\r\n     <use x=\"997.322266\" xlink:href=\"#DejaVuSans-116\"/>\r\n     <use x=\"1036.53125\" xlink:href=\"#DejaVuSans-58\"/>\r\n     <use x=\"1070.222656\" xlink:href=\"#DejaVuSans-32\"/>\r\n     <use x=\"1102.009766\" xlink:href=\"#DejaVuSans-112\"/>\r\n     <use x=\"1165.486328\" xlink:href=\"#DejaVuSans-111\"/>\r\n     <use x=\"1226.667969\" xlink:href=\"#DejaVuSans-115\"/>\r\n     <use x=\"1278.767578\" xlink:href=\"#DejaVuSans-105\"/>\r\n     <use x=\"1306.550781\" xlink:href=\"#DejaVuSans-116\"/>\r\n     <use x=\"1345.759766\" xlink:href=\"#DejaVuSans-105\"/>\r\n     <use x=\"1373.542969\" xlink:href=\"#DejaVuSans-118\"/>\r\n     <use x=\"1432.722656\" xlink:href=\"#DejaVuSans-101\"/>\r\n    </g>\r\n   </g>\r\n  </g>\r\n </g>\r\n <defs>\r\n  <clipPath id=\"p2306b07b16\">\r\n   <rect height=\"127.905882\" width=\"202.909091\" x=\"30.103125\" y=\"22.318125\"/>\r\n  </clipPath>\r\n  <clipPath id=\"p819a43634c\">\r\n   <rect height=\"127.905882\" width=\"202.909091\" x=\"273.594034\" y=\"22.318125\"/>\r\n  </clipPath>\r\n  <clipPath id=\"pd771ce6d4c\">\r\n   <rect height=\"127.905882\" width=\"202.909091\" x=\"30.103125\" y=\"175.805184\"/>\r\n  </clipPath>\r\n  <clipPath id=\"pcd43e9cbeb\">\r\n   <rect height=\"127.905882\" width=\"202.909091\" x=\"273.594034\" y=\"175.805184\"/>\r\n  </clipPath>\r\n  <clipPath id=\"paf2f5b224a\">\r\n   <rect height=\"127.905882\" width=\"202.909091\" x=\"30.103125\" y=\"329.292243\"/>\r\n  </clipPath>\r\n  <clipPath id=\"p124c268f8f\">\r\n   <rect height=\"127.905882\" width=\"202.909091\" x=\"273.594034\" y=\"329.292243\"/>\r\n  </clipPath>\r\n </defs>\r\n</svg>\r\n",
      "image/png": "[encoded data removed]"
     },
     "metadata": {},
     "execution_count": 197
    }
   ],
   "source": [
    "from tslearn.clustering import TimeSeriesKMeans\n",
    "import matplotlib.pyplot as plt\n",
    "%matplotlib inline\n",
    "\n",
    "## clustering the data\n",
    "\n",
    "n_cluster = 2\n",
    "\n",
    "try:\n",
    "    from os import mkdir\n",
    "    mkdir('../clustering/raw_graphs/')\n",
    "except:\n",
    "    pass\n",
    "\n",
    "try:\n",
    "    mkdir(f'../clustering/raw_graphs/n{n_cluster}')\n",
    "except:\n",
    "    pass\n",
    "\n",
    "\n",
    "kmeans = TimeSeriesKMeans(n_clusters=n_cluster, max_iter=10, metric=\"dtw\", random_state=0).fit(raw_states)\n",
    "kmeans_p = kmeans.predict(raw_states)\n",
    "\n",
    "state2cluster_raw = {state: kmeans_p[state2index_raw[state]] for state in state2keep_raw}\n",
    "\n",
    "# print(kmeans.cluster_centers_)\n",
    "# print(state2cluster_raw)\n",
    "\n",
    "## converting data into dataframe for plotting\n",
    "\n",
    "raw_state_df = []\n",
    "cats = 'negative neutral positive'.split(' ')\n",
    "\n",
    "for state, index in state2index_raw.items():\n",
    "    for cat in cats:\n",
    "        sent = raw[raw['state_abv'] == state].groupby(['stage']).agg({f'is_{cat}':'mean'}).reset_index()\n",
    "        \n",
    "        for stage, p in sent.groupby('stage'):\n",
    "            row = {\"state\":state, \"sentiment\":cat, 'stage': int(stage.split(\":\")[1]), 'proportion':p[f'is_{cat}'].values[0]}\n",
    "            raw_state_df.append(row)\n",
    "\n",
    "raw_state_df = pd.DataFrame(raw_state_df)\n",
    "clusters = pd.DataFrame([{\"state\":state, \"cluster\":cluster} for state, cluster in state2cluster_raw.items()])\n",
    "raw_state_df = pd.merge(raw_state_df, clusters, on = 'state')\n",
    "\n",
    "# raw_state_df.head()\n",
    "\n",
    "## plotting by clusters\n",
    "\n",
    "fig, ax = plt.subplots(nrows=3, ncols=n_cluster, figsize=(n_cluster*4, 8), sharey = True, sharex = True)\n",
    "\n",
    "for cluster, df in raw_state_df.groupby(['cluster']):\n",
    "    for i, (sentiment, states) in enumerate(df.groupby(['sentiment'])):\n",
    "        ax[i, cluster].plot('stage', 'proportion', data = states)\n",
    "        ax[i, cluster].set_title(f'cluster: {cluster}, sentiment: {sentiment}')\n",
    "        ax[i, cluster].plot([1, 2, 3, 4], kmeans.cluster_centers_[cluster, i, :], color = 'red')\n",
    "\n",
    "fig.savefig(f'../clustering/raw_graphs/n{n_cluster}/cluster.graphs.png')\n",
    "\n",
    "fig"
   ]
  },
  {
   "cell_type": "code",
   "execution_count": 199,
   "metadata": {},
   "outputs": [
    {
     "output_type": "display_data",
     "data": {
      "application/vnd.plotly.v1+json": {
       "config": {
        "plotlyServerURL": "https://plot.ly"
       },
       "data": [
        {
         "coloraxis": "coloraxis",
         "customdata": [
          [
           1
          ],
          [
           0
          ],
          [
           0
          ],
          [
           1
          ],
          [
           1
          ],
          [
           1
          ],
          [
           1
          ],
          [
           0
          ],
          [
           0
          ],
          [
           1
          ],
          [
           0
          ],
          [
           0
          ],
          [
           1
          ],
          [
           1
          ],
          [
           0
          ],
          [
           0
          ],
          [
           0
          ],
          [
           1
          ],
          [
           1
          ],
          [
           0
          ],
          [
           1
          ],
          [
           1
          ],
          [
           0
          ],
          [
           0
          ],
          [
           1
          ],
          [
           1
          ],
          [
           0
          ],
          [
           1
          ],
          [
           0
          ],
          [
           0
          ],
          [
           1
          ],
          [
           1
          ],
          [
           0
          ],
          [
           0
          ],
          [
           0
          ],
          [
           0
          ],
          [
           0
          ],
          [
           0
          ],
          [
           1
          ],
          [
           0
          ],
          [
           1
          ],
          [
           0
          ],
          [
           0
          ],
          [
           0
          ]
         ],
         "geo": "geo",
         "hovertemplate": "state=%{location}<br>cluster=%{z}<extra></extra>",
         "locationmode": "USA-states",
         "locations": [
          "AL",
          "AR",
          "AZ",
          "CA",
          "CO",
          "CT",
          "DC",
          "FL",
          "GA",
          "HI",
          "IA",
          "ID",
          "IL",
          "IN",
          "KS",
          "KY",
          "LA",
          "MA",
          "MD",
          "ME",
          "MI",
          "MN",
          "MO",
          "MS",
          "NC",
          "NE",
          "NH",
          "NJ",
          "NM",
          "NV",
          "NY",
          "OH",
          "OK",
          "OR",
          "PA",
          "RI",
          "SC",
          "TN",
          "TX",
          "UT",
          "VA",
          "WA",
          "WI",
          "WV"
         ],
         "name": "",
         "type": "choropleth",
         "z": [
          1,
          0,
          0,
          1,
          1,
          1,
          1,
          0,
          0,
          1,
          0,
          0,
          1,
          1,
          0,
          0,
          0,
          1,
          1,
          0,
          1,
          1,
          0,
          0,
          1,
          1,
          0,
          1,
          0,
          0,
          1,
          1,
          0,
          0,
          0,
          0,
          0,
          0,
          1,
          0,
          1,
          0,
          0,
          0
         ]
        }
       ],
       "layout": {
        "coloraxis": {
         "colorbar": {
          "title": {
           "text": "cluster"
          }
         },
         "colorscale": [
          [
           0,
           "#0d0887"
          ],
          [
           0.1111111111111111,
           "#46039f"
          ],
          [
           0.2222222222222222,
           "#7201a8"
          ],
          [
           0.3333333333333333,
           "#9c179e"
          ],
          [
           0.4444444444444444,
           "#bd3786"
          ],
          [
           0.5555555555555556,
           "#d8576b"
          ],
          [
           0.6666666666666666,
           "#ed7953"
          ],
          [
           0.7777777777777778,
           "#fb9f3a"
          ],
          [
           0.8888888888888888,
           "#fdca26"
          ],
          [
           1,
           "#f0f921"
          ]
         ]
        },
        "geo": {
         "center": {},
         "domain": {
          "x": [
           0,
           1
          ],
          "y": [
           0,
           1
          ]
         },
         "scope": "usa"
        },
        "legend": {
         "tracegroupgap": 0
        },
        "margin": {
         "t": 60
        },
        "template": {
         "data": {
          "bar": [
           {
            "error_x": {
             "color": "#2a3f5f"
            },
            "error_y": {
             "color": "#2a3f5f"
            },
            "marker": {
             "line": {
              "color": "#E5ECF6",
              "width": 0.5
             }
            },
            "type": "bar"
           }
          ],
          "barpolar": [
           {
            "marker": {
             "line": {
              "color": "#E5ECF6",
              "width": 0.5
             }
            },
            "type": "barpolar"
           }
          ],
          "carpet": [
           {
            "aaxis": {
             "endlinecolor": "#2a3f5f",
             "gridcolor": "white",
             "linecolor": "white",
             "minorgridcolor": "white",
             "startlinecolor": "#2a3f5f"
            },
            "baxis": {
             "endlinecolor": "#2a3f5f",
             "gridcolor": "white",
             "linecolor": "white",
             "minorgridcolor": "white",
             "startlinecolor": "#2a3f5f"
            },
            "type": "carpet"
           }
          ],
          "choropleth": [
           {
            "colorbar": {
             "outlinewidth": 0,
             "ticks": ""
            },
            "type": "choropleth"
           }
          ],
          "contour": [
           {
            "colorbar": {
             "outlinewidth": 0,
             "ticks": ""
            },
            "colorscale": [
             [
              0,
              "#0d0887"
             ],
             [
              0.1111111111111111,
              "#46039f"
             ],
             [
              0.2222222222222222,
              "#7201a8"
             ],
             [
              0.3333333333333333,
              "#9c179e"
             ],
             [
              0.4444444444444444,
              "#bd3786"
             ],
             [
              0.5555555555555556,
              "#d8576b"
             ],
             [
              0.6666666666666666,
              "#ed7953"
             ],
             [
              0.7777777777777778,
              "#fb9f3a"
             ],
             [
              0.8888888888888888,
              "#fdca26"
             ],
             [
              1,
              "#f0f921"
             ]
            ],
            "type": "contour"
           }
          ],
          "contourcarpet": [
           {
            "colorbar": {
             "outlinewidth": 0,
             "ticks": ""
            },
            "type": "contourcarpet"
           }
          ],
          "heatmap": [
           {
            "colorbar": {
             "outlinewidth": 0,
             "ticks": ""
            },
            "colorscale": [
             [
              0,
              "#0d0887"
             ],
             [
              0.1111111111111111,
              "#46039f"
             ],
             [
              0.2222222222222222,
              "#7201a8"
             ],
             [
              0.3333333333333333,
              "#9c179e"
             ],
             [
              0.4444444444444444,
              "#bd3786"
             ],
             [
              0.5555555555555556,
              "#d8576b"
             ],
             [
              0.6666666666666666,
              "#ed7953"
             ],
             [
              0.7777777777777778,
              "#fb9f3a"
             ],
             [
              0.8888888888888888,
              "#fdca26"
             ],
             [
              1,
              "#f0f921"
             ]
            ],
            "type": "heatmap"
           }
          ],
          "heatmapgl": [
           {
            "colorbar": {
             "outlinewidth": 0,
             "ticks": ""
            },
            "colorscale": [
             [
              0,
              "#0d0887"
             ],
             [
              0.1111111111111111,
              "#46039f"
             ],
             [
              0.2222222222222222,
              "#7201a8"
             ],
             [
              0.3333333333333333,
              "#9c179e"
             ],
             [
              0.4444444444444444,
              "#bd3786"
             ],
             [
              0.5555555555555556,
              "#d8576b"
             ],
             [
              0.6666666666666666,
              "#ed7953"
             ],
             [
              0.7777777777777778,
              "#fb9f3a"
             ],
             [
              0.8888888888888888,
              "#fdca26"
             ],
             [
              1,
              "#f0f921"
             ]
            ],
            "type": "heatmapgl"
           }
          ],
          "histogram": [
           {
            "marker": {
             "colorbar": {
              "outlinewidth": 0,
              "ticks": ""
             }
            },
            "type": "histogram"
           }
          ],
          "histogram2d": [
           {
            "colorbar": {
             "outlinewidth": 0,
             "ticks": ""
            },
            "colorscale": [
             [
              0,
              "#0d0887"
             ],
             [
              0.1111111111111111,
              "#46039f"
             ],
             [
              0.2222222222222222,
              "#7201a8"
             ],
             [
              0.3333333333333333,
              "#9c179e"
             ],
             [
              0.4444444444444444,
              "#bd3786"
             ],
             [
              0.5555555555555556,
              "#d8576b"
             ],
             [
              0.6666666666666666,
              "#ed7953"
             ],
             [
              0.7777777777777778,
              "#fb9f3a"
             ],
             [
              0.8888888888888888,
              "#fdca26"
             ],
             [
              1,
              "#f0f921"
             ]
            ],
            "type": "histogram2d"
           }
          ],
          "histogram2dcontour": [
           {
            "colorbar": {
             "outlinewidth": 0,
             "ticks": ""
            },
            "colorscale": [
             [
              0,
              "#0d0887"
             ],
             [
              0.1111111111111111,
              "#46039f"
             ],
             [
              0.2222222222222222,
              "#7201a8"
             ],
             [
              0.3333333333333333,
              "#9c179e"
             ],
             [
              0.4444444444444444,
              "#bd3786"
             ],
             [
              0.5555555555555556,
              "#d8576b"
             ],
             [
              0.6666666666666666,
              "#ed7953"
             ],
             [
              0.7777777777777778,
              "#fb9f3a"
             ],
             [
              0.8888888888888888,
              "#fdca26"
             ],
             [
              1,
              "#f0f921"
             ]
            ],
            "type": "histogram2dcontour"
           }
          ],
          "mesh3d": [
           {
            "colorbar": {
             "outlinewidth": 0,
             "ticks": ""
            },
            "type": "mesh3d"
           }
          ],
          "parcoords": [
           {
            "line": {
             "colorbar": {
              "outlinewidth": 0,
              "ticks": ""
             }
            },
            "type": "parcoords"
           }
          ],
          "pie": [
           {
            "automargin": true,
            "type": "pie"
           }
          ],
          "scatter": [
           {
            "marker": {
             "colorbar": {
              "outlinewidth": 0,
              "ticks": ""
             }
            },
            "type": "scatter"
           }
          ],
          "scatter3d": [
           {
            "line": {
             "colorbar": {
              "outlinewidth": 0,
              "ticks": ""
             }
            },
            "marker": {
             "colorbar": {
              "outlinewidth": 0,
              "ticks": ""
             }
            },
            "type": "scatter3d"
           }
          ],
          "scattercarpet": [
           {
            "marker": {
             "colorbar": {
              "outlinewidth": 0,
              "ticks": ""
             }
            },
            "type": "scattercarpet"
           }
          ],
          "scattergeo": [
           {
            "marker": {
             "colorbar": {
              "outlinewidth": 0,
              "ticks": ""
             }
            },
            "type": "scattergeo"
           }
          ],
          "scattergl": [
           {
            "marker": {
             "colorbar": {
              "outlinewidth": 0,
              "ticks": ""
             }
            },
            "type": "scattergl"
           }
          ],
          "scattermapbox": [
           {
            "marker": {
             "colorbar": {
              "outlinewidth": 0,
              "ticks": ""
             }
            },
            "type": "scattermapbox"
           }
          ],
          "scatterpolar": [
           {
            "marker": {
             "colorbar": {
              "outlinewidth": 0,
              "ticks": ""
             }
            },
            "type": "scatterpolar"
           }
          ],
          "scatterpolargl": [
           {
            "marker": {
             "colorbar": {
              "outlinewidth": 0,
              "ticks": ""
             }
            },
            "type": "scatterpolargl"
           }
          ],
          "scatterternary": [
           {
            "marker": {
             "colorbar": {
              "outlinewidth": 0,
              "ticks": ""
             }
            },
            "type": "scatterternary"
           }
          ],
          "surface": [
           {
            "colorbar": {
             "outlinewidth": 0,
             "ticks": ""
            },
            "colorscale": [
             [
              0,
              "#0d0887"
             ],
             [
              0.1111111111111111,
              "#46039f"
             ],
             [
              0.2222222222222222,
              "#7201a8"
             ],
             [
              0.3333333333333333,
              "#9c179e"
             ],
             [
              0.4444444444444444,
              "#bd3786"
             ],
             [
              0.5555555555555556,
              "#d8576b"
             ],
             [
              0.6666666666666666,
              "#ed7953"
             ],
             [
              0.7777777777777778,
              "#fb9f3a"
             ],
             [
              0.8888888888888888,
              "#fdca26"
             ],
             [
              1,
              "#f0f921"
             ]
            ],
            "type": "surface"
           }
          ],
          "table": [
           {
            "cells": {
             "fill": {
              "color": "#EBF0F8"
             },
             "line": {
              "color": "white"
             }
            },
            "header": {
             "fill": {
              "color": "#C8D4E3"
             },
             "line": {
              "color": "white"
             }
            },
            "type": "table"
           }
          ]
         },
         "layout": {
          "annotationdefaults": {
           "arrowcolor": "#2a3f5f",
           "arrowhead": 0,
           "arrowwidth": 1
          },
          "coloraxis": {
           "colorbar": {
            "outlinewidth": 0,
            "ticks": ""
           }
          },
          "colorscale": {
           "diverging": [
            [
             0,
             "#8e0152"
            ],
            [
             0.1,
             "#c51b7d"
            ],
            [
             0.2,
             "#de77ae"
            ],
            [
             0.3,
             "#f1b6da"
            ],
            [
             0.4,
             "#fde0ef"
            ],
            [
             0.5,
             "#f7f7f7"
            ],
            [
             0.6,
             "#e6f5d0"
            ],
            [
             0.7,
             "#b8e186"
            ],
            [
             0.8,
             "#7fbc41"
            ],
            [
             0.9,
             "#4d9221"
            ],
            [
             1,
             "#276419"
            ]
           ],
           "sequential": [
            [
             0,
             "#0d0887"
            ],
            [
             0.1111111111111111,
             "#46039f"
            ],
            [
             0.2222222222222222,
             "#7201a8"
            ],
            [
             0.3333333333333333,
             "#9c179e"
            ],
            [
             0.4444444444444444,
             "#bd3786"
            ],
            [
             0.5555555555555556,
             "#d8576b"
            ],
            [
             0.6666666666666666,
             "#ed7953"
            ],
            [
             0.7777777777777778,
             "#fb9f3a"
            ],
            [
             0.8888888888888888,
             "#fdca26"
            ],
            [
             1,
             "#f0f921"
            ]
           ],
           "sequentialminus": [
            [
             0,
             "#0d0887"
            ],
            [
             0.1111111111111111,
             "#46039f"
            ],
            [
             0.2222222222222222,
             "#7201a8"
            ],
            [
             0.3333333333333333,
             "#9c179e"
            ],
            [
             0.4444444444444444,
             "#bd3786"
            ],
            [
             0.5555555555555556,
             "#d8576b"
            ],
            [
             0.6666666666666666,
             "#ed7953"
            ],
            [
             0.7777777777777778,
             "#fb9f3a"
            ],
            [
             0.8888888888888888,
             "#fdca26"
            ],
            [
             1,
             "#f0f921"
            ]
           ]
          },
          "colorway": [
           "#636efa",
           "#EF553B",
           "#00cc96",
           "#ab63fa",
           "#FFA15A",
           "#19d3f3",
           "#FF6692",
           "#B6E880",
           "#FF97FF",
           "#FECB52"
          ],
          "font": {
           "color": "#2a3f5f"
          },
          "geo": {
           "bgcolor": "white",
           "lakecolor": "white",
           "landcolor": "#E5ECF6",
           "showlakes": true,
           "showland": true,
           "subunitcolor": "white"
          },
          "hoverlabel": {
           "align": "left"
          },
          "hovermode": "closest",
          "mapbox": {
           "style": "light"
          },
          "paper_bgcolor": "white",
          "plot_bgcolor": "#E5ECF6",
          "polar": {
           "angularaxis": {
            "gridcolor": "white",
            "linecolor": "white",
            "ticks": ""
           },
           "bgcolor": "#E5ECF6",
           "radialaxis": {
            "gridcolor": "white",
            "linecolor": "white",
            "ticks": ""
           }
          },
          "scene": {
           "xaxis": {
            "backgroundcolor": "#E5ECF6",
            "gridcolor": "white",
            "gridwidth": 2,
            "linecolor": "white",
            "showbackground": true,
            "ticks": "",
            "zerolinecolor": "white"
           },
           "yaxis": {
            "backgroundcolor": "#E5ECF6",
            "gridcolor": "white",
            "gridwidth": 2,
            "linecolor": "white",
            "showbackground": true,
            "ticks": "",
            "zerolinecolor": "white"
           },
           "zaxis": {
            "backgroundcolor": "#E5ECF6",
            "gridcolor": "white",
            "gridwidth": 2,
            "linecolor": "white",
            "showbackground": true,
            "ticks": "",
            "zerolinecolor": "white"
           }
          },
          "shapedefaults": {
           "line": {
            "color": "#2a3f5f"
           }
          },
          "ternary": {
           "aaxis": {
            "gridcolor": "white",
            "linecolor": "white",
            "ticks": ""
           },
           "baxis": {
            "gridcolor": "white",
            "linecolor": "white",
            "ticks": ""
           },
           "bgcolor": "#E5ECF6",
           "caxis": {
            "gridcolor": "white",
            "linecolor": "white",
            "ticks": ""
           }
          },
          "title": {
           "x": 0.05
          },
          "xaxis": {
           "automargin": true,
           "gridcolor": "white",
           "linecolor": "white",
           "ticks": "",
           "title": {
            "standoff": 15
           },
           "zerolinecolor": "white",
           "zerolinewidth": 2
          },
          "yaxis": {
           "automargin": true,
           "gridcolor": "white",
           "linecolor": "white",
           "ticks": "",
           "title": {
            "standoff": 15
           },
           "zerolinecolor": "white",
           "zerolinewidth": 2
          }
         }
        }
       }
      }
     },
     "metadata": {}
    }
   ],
   "source": [
    "pl_map = px.choropleth(raw_state_df.groupby(['state']).agg({'cluster':'max'}).reset_index(), locations='state', color='cluster', \n",
    "                     scope=\"usa\", locationmode=\"USA-states\", hover_data=['cluster'])\n",
    "\n",
    "pl_map.write_image(f'../clustering/raw_graphs/n{n_cluster}/cluster.map.png', engine=\"kaleido\", width=800, height=800)\n",
    "\n",
    "pl_map.show()"
   ]
  },
  {
   "source": [
    "## cdc dataset\n",
    "\n",
    "just saving, not printing"
   ],
   "cell_type": "markdown",
   "metadata": {}
  },
  {
   "cell_type": "code",
   "execution_count": 196,
   "metadata": {},
   "outputs": [],
   "source": [
    "from tslearn.clustering import TimeSeriesKMeans\n",
    "import matplotlib.pyplot as plt\n",
    "%matplotlib inline\n",
    "\n",
    "## clustering the data\n",
    "\n",
    "for n_cluster in [2, 3, 4, 5, 6, 7]:\n",
    "\n",
    "    try:\n",
    "        from os import mkdir\n",
    "        mkdir('../clustering/cdc_graphs/')\n",
    "    except:\n",
    "        pass\n",
    "\n",
    "    try:\n",
    "        mkdir(f'../clustering/cdc_graphs/n{n_cluster}')\n",
    "    except:\n",
    "        pass\n",
    "\n",
    "\n",
    "    kmeans = TimeSeriesKMeans(n_clusters=n_cluster, max_iter=10, metric=\"dtw\", random_state=0).fit(cdc_states)\n",
    "    kmeans_p = kmeans.predict(cdc_states)\n",
    "\n",
    "    state2cluster_cdc = {state: kmeans_p[state2index_cdc[state]] for state in state2keep_cdc}\n",
    "\n",
    "    # print(kmeans.cluster_centers_)\n",
    "    # print(state2cluster_raw)\n",
    "\n",
    "    ## converting data into dataframe for plotting\n",
    "\n",
    "    cdc_state_df = []\n",
    "    cats = 'negative neutral positive'.split(' ')\n",
    "\n",
    "    for state, index in state2index_cdc.items():\n",
    "        for cat in cats:\n",
    "            sent = raw[raw['state_abv'] == state].groupby(['stage']).agg({f'is_{cat}':'mean'}).reset_index()\n",
    "            \n",
    "            for stage, p in sent.groupby('stage'):\n",
    "                row = {\"state\":state, \"sentiment\":cat, 'stage': int(stage.split(\":\")[1]), 'proportion':p[f'is_{cat}'].values[0]}\n",
    "                cdc_state_df.append(row)\n",
    "\n",
    "    cdc_state_df = pd.DataFrame(cdc_state_df)\n",
    "    clusters = pd.DataFrame([{\"state\":state, \"cluster\":cluster} for state, cluster in state2cluster_cdc.items()])\n",
    "    cdc_state_df = pd.merge(cdc_state_df, clusters, on = 'state')\n",
    "\n",
    "    # raw_state_df.head()\n",
    "\n",
    "    ## plotting by clusters\n",
    "\n",
    "    fig, ax = plt.subplots(nrows=3, ncols=n_cluster, figsize=(n_cluster*4, 8), sharey = True, sharex = True)\n",
    "\n",
    "    for cluster, df in cdc_state_df.groupby(['cluster']):\n",
    "        for i, (sentiment, states) in enumerate(df.groupby(['sentiment'])):\n",
    "            ax[i, cluster].plot('stage', 'proportion', data = states)\n",
    "            ax[i, cluster].set_title(f'cluster: {cluster}, sentiment: {sentiment}')\n",
    "            ax[i, cluster].plot([1, 2, 3, 4], kmeans.cluster_centers_[cluster, i, :], color = 'red')\n",
    "\n",
    "    fig.savefig(f'../clustering/cdc_graphs/n{n_cluster}/cluster.graphs.png')\n",
    "\n",
    "\n",
    "    pl_map = px.choropleth(cdc_state_df.groupby(['state']).agg({'cluster':'max'}).reset_index(), locations='state', color='cluster', \n",
    "                        scope=\"usa\", locationmode=\"USA-states\", hover_data=['cluster'])\n",
    "\n",
    "    pl_map.write_image(f'../clustering/cdc_graphs/n{n_cluster}/cluster.map.png', engine=\"kaleido\", width=800, height=800)"
   ]
  }
 ]
}