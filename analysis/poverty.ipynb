{
 "metadata": {
  "language_info": {
   "codemirror_mode": {
    "name": "ipython",
    "version": 3
   },
   "file_extension": ".py",
   "mimetype": "text/x-python",
   "name": "python",
   "nbconvert_exporter": "python",
   "pygments_lexer": "ipython3",
   "version": "3.8.3-final"
  },
  "orig_nbformat": 2,
  "kernelspec": {
   "name": "python38364bit31a300f32e4a4979894c2ccf59316df7",
   "display_name": "Python 3.8.3 64-bit",
   "language": "python"
  }
 },
 "nbformat": 4,
 "nbformat_minor": 2,
 "cells": [
  {
   "source": [
    "# testing poverty rate correlations\n",
    "\n",
    "https://www.census.gov/data/datasets/2019/demo/saipe/2019-state-and-county.html"
   ],
   "cell_type": "markdown",
   "metadata": {}
  },
  {
   "cell_type": "code",
   "execution_count": 1,
   "metadata": {},
   "outputs": [
    {
     "output_type": "stream",
     "name": "stdout",
     "text": [
      "loaded...\n"
     ]
    }
   ],
   "source": [
    "import pandas as pd\n",
    "import seaborn as sns\n",
    "import matplotlib.pyplot as plt\n",
    "import plotly.express as px # choropleth maps\n",
    "from IPython.display import Image\n",
    "import os\n",
    "import sys\n",
    "import json\n",
    "# plotly maps\n",
    "# import plotly.figure_factory as ff\n",
    "# from urllib.request import urlopen\n",
    "\n",
    "# sys.path.append(os.path.abspath(\"C:/Users/Alex/Documents/My Data Files/COVID Research/analysis/mention_2_hashtag.py\"))\n",
    "\n",
    "# from analysis.functions.mention_2_hashtag import * \n",
    "# from analysis.functions.datamanip import *\n",
    "\n",
    "# n grams\n",
    "from sklearn.feature_extraction.text import CountVectorizer\n",
    "\n",
    "raw = pd.read_csv('flair.joined.tweets.csv')\n",
    "\n",
    "# changing date to more readable format\n",
    "raw['created_at'] = pd.to_datetime(raw['created_at'])\n",
    "\n",
    "# getting seperated date and time columns\n",
    "raw['date'] = raw['created_at'].dt.date\n",
    "raw['week'] = raw['created_at'].dt.week\n",
    "raw['time'] = raw['created_at'].dt.time\n",
    "raw['hour'] = raw['created_at'].dt.hour\n",
    "\n",
    "min_wk = raw['week'].min()\n",
    "max_wk = raw['week'].max()\n",
    "\n",
    "min_date = raw['date'].min()\n",
    "max_date = raw['date'].max()\n",
    "\n",
    "# changing na to None\n",
    "raw = raw.fillna('None')\n",
    "\n",
    "raw = raw[raw['sentiment'] != 'None']\n",
    "\n",
    "raw['is_negative'] = [1 if 'NEGATIVE' in str(sent) else 0 for sent in raw['sentiment']]\n",
    "raw['is_positive'] = [1 if 'POSITIVE' in str(sent) else 0 for sent in raw['sentiment']]\n",
    "\n",
    "\n",
    "def convert_fips(unknown_fips_list, fin):\n",
    "    \n",
    "    def convert(fipsline):\n",
    "        name, postal, fips= fipsline.strip().split('\\t')\n",
    "\n",
    "        return {fips: name}\n",
    "\n",
    "    fips_dict = {f: n \n",
    "                for dic in [convert(line)for line in open(fin, 'r')]\n",
    "                for f, n in dic.items()}\n",
    "\n",
    "    return [fips_dict[f'{unknown:02d}'] for unknown in unknown_fips_list]\n",
    "\n",
    "raw = raw[raw['statefips'] != 'None']\n",
    "\n",
    "raw['state_name'] = convert_fips([int(float(fips)) for fips in raw['statefips']],\n",
    "                     '../analysis/functions/state.fips.txt')\n",
    "\n",
    "us_state_abbrev = json.load(open('state_abbreviations.json'))\n",
    "\n",
    "raw['state_abv'] = [us_state_abbrev[s] for s in raw['state_name']]\n",
    "\n",
    "raw['fips'] = [f'{int(float(state)):02d}{int(float(county)):03d}' for i, state, county in raw[['statefips', 'countyfips']].itertuples()]\n",
    "raw['count'] = 1\n",
    "# raw.head()\n",
    "\n",
    "all_splits = pd.to_datetime(['2020-03-05', '2020-03-26', '2020-05-01'])\n",
    "raw['stage'] = ['s:1' if date < all_splits[0] else 's:2' if date < all_splits[1] else 's:3' if date < all_splits[2] else 's:4' for date in raw['date']]\n",
    "\n",
    "\n",
    "\n",
    "#########################\n",
    "# thresholds\n",
    "thresholds = [0.8, 0.9, 0.95]\n",
    "for thresh in thresholds:\n",
    "    raw[f't:{thresh}'] = [1 if float(conf) > thresh else 0 for conf in raw['sent_confidence']]\n",
    "\n",
    "col = 't:0.8'\n",
    "raw['category'] = ['NEUT' if t == 0 else 'POS' if p == 1 else 'NEG' for i, n, p, t in raw[['is_negative', 'is_positive', col]].itertuples()]\n",
    "raw['is_neutral'] = [1 if cat == 'NEUT' else 0 for cat in raw['category']]\n",
    "raw['is_positive'] = [1 if cat == 'POS' else 0 for cat in raw['category']]\n",
    "raw['is_negative'] = [1 if cat == 'NEG' else 0 for cat in raw['category']]\n",
    "\n",
    "raw['is_neutral2'] = raw['is_neutral']\n",
    "raw['is_positive2'] = raw['is_positive']\n",
    "raw['is_negative2'] = raw['is_negative']\n",
    "\n",
    "raw['is_neutral3'] = raw['is_neutral']\n",
    "raw['is_positive3'] = raw['is_positive']\n",
    "raw['is_negative3'] = raw['is_negative']\n",
    "\n",
    "##################\n",
    "# cdc\n",
    "\n",
    "keywords = ['social distancing', 'social distance', 'physical distance', '6 feet', 'stay at home', 'school isolation', 'isolation', 'stay home', 'avoid touching', 'mask', 'covering', 'face shield', 'wear a mask', 'surgical mask', 'N95 respirator', 'wearing gloves', 'face shields', 'facial covering', 'skin protection', 'eye protection', 'ppe', 'wash hands', 'hand sanitizer', 'disinfect', 'clean', 'detergent', 'handwashing', 'hand hygiene', 'prevention hygiene', 'sprays', 'concentrates', 'wipes', 'routine cleaning', 'bleach solution', 'test', 'business closure']\n",
    "\n",
    "topics = []\n",
    "indexes = {i:0 for i in range(len(raw.index))}\n",
    "\n",
    "for i, topic in enumerate(keywords):\n",
    "    topics.append([1 if topic in text else 0 for text in raw['ogtext']])\n",
    "\n",
    "for i, kw in enumerate(topics):\n",
    "    for data_ind, value in enumerate(topics[i]):\n",
    "        indexes[data_ind] += value\n",
    "\n",
    "raw['in_cdc'] = [indexes[i] if 0 <= indexes[i] <= 1 else 1 for i in indexes]\n",
    "\n",
    "cdc = raw[raw['in_cdc'] == 1]\n",
    "\n",
    "cdc_splits = pd.to_datetime(['2020-03-12', '2020-04-20', '2020-05-14'])\n",
    "cdc['stage'] = ['s:1' if date < cdc_splits[0] else 's:2' if date < cdc_splits[1] else 's:3' if date < cdc_splits[2] else 's:4' for date in cdc['date']]\n",
    "\n",
    "# print(f'there are a total of {len(cdc.index)} tweets after subsetting for cdc keywords')\n",
    "# print(raw)\n",
    "# print(cdc)\n",
    "print('loaded...')"
   ]
  },
  {
   "cell_type": "code",
   "execution_count": 2,
   "metadata": {
    "tags": []
   },
   "outputs": [
    {
     "output_type": "execute_result",
     "data": {
      "text/plain": [
       "                   id_str                created_at  follower_count  \\\n",
       "0  id:1226763665036075008 2020-02-10 07:03:44+00:00           270.0   \n",
       "1  id:1226773799342706689 2020-02-10 07:44:00+00:00           312.0   \n",
       "2  id:1226327068389998592 2020-02-09 02:08:51+00:00          2887.0   \n",
       "3  id:1233697011758587907 2020-02-29 10:14:23+00:00             7.0   \n",
       "4  id:1233697205405437953 2020-02-29 10:15:09+00:00             7.0   \n",
       "\n",
       "   friends_count statefips countyfips countyname  is_urban  \\\n",
       "0          539.0      32.0        3.0      Clark         1   \n",
       "1          125.0      32.0        3.0      Clark         1   \n",
       "2          831.0      32.0        3.0      Clark         1   \n",
       "3          169.0      32.0        3.0      Clark         1   \n",
       "4          169.0      32.0        3.0      Clark         1   \n",
       "\n",
       "                                              ogtext  \\\n",
       "0  having a mocha and avoiding coronavirus at the...   \n",
       "1  sadly nothing will be done to help the people ...   \n",
       "2  the world is grieving for the wuhan doctor who...   \n",
       "3  risk of global coronavirus spread very high wa...   \n",
       "4         coronavirus what are the chances of dying    \n",
       "\n",
       "                                           cleantext  ... category is_neutral  \\\n",
       "0               have mocha avoid coronavirus airport  ...      POS          0   \n",
       "1  sadly help people china communist government u...  ...      NEG          0   \n",
       "2  world grieving wuhan doctor try warn colleague...  ...      NEG          0   \n",
       "3  risk global coronavirus spread high warn china...  ...      NEG          0   \n",
       "4                            coronavirus chances die  ...      NEG          0   \n",
       "\n",
       "  is_neutral2 is_positive2 is_negative2 is_neutral3 is_positive3  \\\n",
       "0           0            1            0           0            1   \n",
       "1           0            0            1           0            0   \n",
       "2           0            0            1           0            0   \n",
       "3           0            0            1           0            0   \n",
       "4           0            0            1           0            0   \n",
       "\n",
       "   is_negative3 in_cdc  poverty_estimate  \n",
       "0             0      0              13.3  \n",
       "1             1      0              13.3  \n",
       "2             1      0              13.3  \n",
       "3             1      0              13.3  \n",
       "4             1      0              13.3  \n",
       "\n",
       "[5 rows x 40 columns]"
      ],
      "text/html": "<div>\n<style scoped>\n    .dataframe tbody tr th:only-of-type {\n        vertical-align: middle;\n    }\n\n    .dataframe tbody tr th {\n        vertical-align: top;\n    }\n\n    .dataframe thead th {\n        text-align: right;\n    }\n</style>\n<table border=\"1\" class=\"dataframe\">\n  <thead>\n    <tr style=\"text-align: right;\">\n      <th></th>\n      <th>id_str</th>\n      <th>created_at</th>\n      <th>follower_count</th>\n      <th>friends_count</th>\n      <th>statefips</th>\n      <th>countyfips</th>\n      <th>countyname</th>\n      <th>is_urban</th>\n      <th>ogtext</th>\n      <th>cleantext</th>\n      <th>...</th>\n      <th>category</th>\n      <th>is_neutral</th>\n      <th>is_neutral2</th>\n      <th>is_positive2</th>\n      <th>is_negative2</th>\n      <th>is_neutral3</th>\n      <th>is_positive3</th>\n      <th>is_negative3</th>\n      <th>in_cdc</th>\n      <th>poverty_estimate</th>\n    </tr>\n  </thead>\n  <tbody>\n    <tr>\n      <th>0</th>\n      <td>id:1226763665036075008</td>\n      <td>2020-02-10 07:03:44+00:00</td>\n      <td>270.0</td>\n      <td>539.0</td>\n      <td>32.0</td>\n      <td>3.0</td>\n      <td>Clark</td>\n      <td>1</td>\n      <td>having a mocha and avoiding coronavirus at the...</td>\n      <td>have mocha avoid coronavirus airport</td>\n      <td>...</td>\n      <td>POS</td>\n      <td>0</td>\n      <td>0</td>\n      <td>1</td>\n      <td>0</td>\n      <td>0</td>\n      <td>1</td>\n      <td>0</td>\n      <td>0</td>\n      <td>13.3</td>\n    </tr>\n    <tr>\n      <th>1</th>\n      <td>id:1226773799342706689</td>\n      <td>2020-02-10 07:44:00+00:00</td>\n      <td>312.0</td>\n      <td>125.0</td>\n      <td>32.0</td>\n      <td>3.0</td>\n      <td>Clark</td>\n      <td>1</td>\n      <td>sadly nothing will be done to help the people ...</td>\n      <td>sadly help people china communist government u...</td>\n      <td>...</td>\n      <td>NEG</td>\n      <td>0</td>\n      <td>0</td>\n      <td>0</td>\n      <td>1</td>\n      <td>0</td>\n      <td>0</td>\n      <td>1</td>\n      <td>0</td>\n      <td>13.3</td>\n    </tr>\n    <tr>\n      <th>2</th>\n      <td>id:1226327068389998592</td>\n      <td>2020-02-09 02:08:51+00:00</td>\n      <td>2887.0</td>\n      <td>831.0</td>\n      <td>32.0</td>\n      <td>3.0</td>\n      <td>Clark</td>\n      <td>1</td>\n      <td>the world is grieving for the wuhan doctor who...</td>\n      <td>world grieving wuhan doctor try warn colleague...</td>\n      <td>...</td>\n      <td>NEG</td>\n      <td>0</td>\n      <td>0</td>\n      <td>0</td>\n      <td>1</td>\n      <td>0</td>\n      <td>0</td>\n      <td>1</td>\n      <td>0</td>\n      <td>13.3</td>\n    </tr>\n    <tr>\n      <th>3</th>\n      <td>id:1233697011758587907</td>\n      <td>2020-02-29 10:14:23+00:00</td>\n      <td>7.0</td>\n      <td>169.0</td>\n      <td>32.0</td>\n      <td>3.0</td>\n      <td>Clark</td>\n      <td>1</td>\n      <td>risk of global coronavirus spread very high wa...</td>\n      <td>risk global coronavirus spread high warn china...</td>\n      <td>...</td>\n      <td>NEG</td>\n      <td>0</td>\n      <td>0</td>\n      <td>0</td>\n      <td>1</td>\n      <td>0</td>\n      <td>0</td>\n      <td>1</td>\n      <td>0</td>\n      <td>13.3</td>\n    </tr>\n    <tr>\n      <th>4</th>\n      <td>id:1233697205405437953</td>\n      <td>2020-02-29 10:15:09+00:00</td>\n      <td>7.0</td>\n      <td>169.0</td>\n      <td>32.0</td>\n      <td>3.0</td>\n      <td>Clark</td>\n      <td>1</td>\n      <td>coronavirus what are the chances of dying</td>\n      <td>coronavirus chances die</td>\n      <td>...</td>\n      <td>NEG</td>\n      <td>0</td>\n      <td>0</td>\n      <td>0</td>\n      <td>1</td>\n      <td>0</td>\n      <td>0</td>\n      <td>1</td>\n      <td>0</td>\n      <td>13.3</td>\n    </tr>\n  </tbody>\n</table>\n<p>5 rows × 40 columns</p>\n</div>"
     },
     "metadata": {},
     "execution_count": 2
    }
   ],
   "source": [
    "poverty = pd.read_csv('fips_poverty_est.csv')\n",
    "poverty = poverty[['State FIPS Code', 'County FIPS Code', 'Poverty Percent, All Ages']]\n",
    "poverty['statefips'] = [str(n).zfill(2) for n in poverty['State FIPS Code']]\n",
    "poverty['countyfips'] = [str(n).zfill(3) for n in poverty['County FIPS Code']]\n",
    "poverty['fips'] = [f'{s}{c}' for i,s,c in poverty[['statefips', 'countyfips']].itertuples()]\n",
    "poverty = poverty[poverty['fips'].isin(raw['fips'].unique())]\n",
    "poverty = poverty[['fips', 'Poverty Percent, All Ages']]\n",
    "poverty.columns = ['fips', 'poverty_estimate']\n",
    "poverty['poverty_estimate'] = poverty['poverty_estimate'].replace(',','', regex = True)\n",
    "raw = pd.merge(raw, poverty, on='fips')\n",
    "raw['poverty_estimate'] = raw['poverty_estimate'].astype(float)\n",
    "raw.head()\n"
   ]
  },
  {
   "cell_type": "code",
   "execution_count": 3,
   "metadata": {},
   "outputs": [
    {
     "output_type": "stream",
     "name": "stdout",
     "text": [
      "there are a total of 53215 tweets after subsetting for cdc keywords\n"
     ]
    }
   ],
   "source": [
    "keywords = ['social distancing', 'social distance', 'physical distance', '6 feet', 'stay at home', 'school isolation', 'isolation', 'stay home', 'avoid touching', 'mask', 'covering', 'face shield', 'wear a mask', 'surgical mask', 'N95 respirator', 'wearing gloves', 'face shields', 'facial covering', 'skin protection', 'eye protection', 'ppe', 'wash hands', 'hand sanitizer', 'disinfect', 'clean', 'detergent', 'handwashing', 'hand hygiene', 'prevention hygiene', 'sprays', 'concentrates', 'wipes', 'routine cleaning', 'bleach solution', 'test', 'business closure']\n",
    "\n",
    "topics = []\n",
    "indexes = {i:0 for i in range(len(raw.index))}\n",
    "\n",
    "for i, topic in enumerate(keywords):\n",
    "    topics.append([1 if topic in text else 0 for text in raw['ogtext']])\n",
    "\n",
    "for i, kw in enumerate(topics):\n",
    "    for data_ind, value in enumerate(topics[i]):\n",
    "        indexes[data_ind] += value\n",
    "\n",
    "raw['in_cdc'] = [indexes[i] if 0 <= indexes[i] <= 1 else 1 for i in indexes]\n",
    "\n",
    "cdc = raw[raw['in_cdc'] == 1]\n",
    "\n",
    "print(f'there are a total of {len(cdc.index)} tweets after subsetting for cdc keywords')"
   ]
  },
  {
   "cell_type": "code",
   "execution_count": 12,
   "metadata": {},
   "outputs": [
    {
     "output_type": "stream",
     "name": "stdout",
     "text": [
      "n counties 909\nnegative:   r                  p\n(0.046101683642716614, 0.16490135669612332)\n\npositive:   r                  p\n(-0.08355731884828414, 0.011730025207650648)\n\nneutral:   r                  p\n(0.05741652104513095, 0.08360667388703547)\n\n"
     ]
    }
   ],
   "source": [
    "counties = raw.groupby(['fips']).agg({'is_negative':'mean', 'is_positive':'mean', 'is_neutral':'mean', 'poverty_estimate':'mean', 'state_name':'max', 'count':'count'}).reset_index()\n",
    "\n",
    "counties = counties[counties['count'] > 15]\n",
    "print(f'n counties {len(counties.index)}')\n",
    "# print(counties.corr()**2)\n",
    "\n",
    "import scipy\n",
    "\n",
    "cats = 'negative positive neutral'.split(' ')\n",
    "\n",
    "for cat in cats:\n",
    "    x= counties[f'is_{cat}']\n",
    "    y= counties['poverty_estimate']\n",
    "\n",
    "    print(f'{cat}:   r                  p')\n",
    "    print(scipy.stats.pearsonr(x, y))    # Pearson's r\n",
    "    print()"
   ]
  },
  {
   "cell_type": "code",
   "execution_count": 13,
   "metadata": {},
   "outputs": [
    {
     "output_type": "stream",
     "name": "stdout",
     "text": [
      "n counties 413\nnegative:   r                  p\n(-0.026115491044656637, 0.596658951003852)\n\npositive:   r                  p\n(-0.0038761374518536656, 0.9374033108847634)\n\nneutral:   r                  p\n(0.046038058928351465, 0.350684115711116)\n\n"
     ]
    }
   ],
   "source": [
    "counties = cdc.groupby(['fips']).agg({'is_negative':'mean', 'is_positive':'mean', 'is_neutral':'mean', 'poverty_estimate':'mean', 'state_name':'max', 'count':'count'}).reset_index()\n",
    "\n",
    "counties = counties[counties['count'] > 15]\n",
    "print(f'n counties {len(counties.index)}')\n",
    "\n",
    "# print(counties.corr()**2)\n",
    "\n",
    "# import scipy\n",
    "\n",
    "cats = 'negative positive neutral'.split(' ')\n",
    "\n",
    "for cat in cats:\n",
    "    x= counties[f'is_{cat}']\n",
    "    y= counties['poverty_estimate']\n",
    "\n",
    "    print(f'{cat}:   r                  p')\n",
    "    print(scipy.stats.pearsonr(x, y))    # Pearson's r\n",
    "    print()"
   ]
  }
 ]
}